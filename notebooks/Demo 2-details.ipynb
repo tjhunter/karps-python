{
 "cells": [
  {
   "cell_type": "markdown",
   "metadata": {},
   "source": [
    "# Bringing modularity and code reuse to Spark\n",
    "\n",
    "Spark does not let one define arbitrary functions and reuse them at will. In this example, we show how to decompose a problem into a set of simpler primitive functions, that nevertheless perform arbitrary operations that would not be allowed in Spark.\n",
    "\n",
    "We are going to build a function that exemplifies the birthday paradox: given a set of birthdates, it will returns the number of people who happen to share a birthdate with someone else. This is easy to express using joins. This function takes a dataset or a column as input (the birth dates) and returns a single number (the number of people who share the same birth day). This is an aggregation function! Our urge is of course to use it then in a different setting such as in a group, etc."
   ]
  },
  {
   "cell_type": "code",
   "execution_count": 1,
   "metadata": {
    "collapsed": true
   },
   "outputs": [],
   "source": [
    "# Combining with structured transforms\n",
    "import karps as ks\n",
    "import karps.functions as f\n",
    "from karps.display import show_phase"
   ]
  },
  {
   "cell_type": "code",
   "execution_count": 2,
   "metadata": {
    "collapsed": true
   },
   "outputs": [],
   "source": [
    "# Make a session to be done with it\n",
    "s = ks.session(\"demo2e\")"
   ]
  },
  {
   "cell_type": "markdown",
   "metadata": {},
   "source": [
    "This is an extremely small dataset:"
   ]
  },
  {
   "cell_type": "code",
   "execution_count": 3,
   "metadata": {},
   "outputs": [
    {
     "data": {
      "text/plain": [
       "/employees@org.spark.DistributedLiteral:{company_name:string, employee_name:string, dob:string}"
      ]
     },
     "execution_count": 3,
     "metadata": {},
     "output_type": "execute_result"
    }
   ],
   "source": [
    "employees = ks.dataframe([\n",
    "    (\"ACME\", \"John\", \"12/01\"),\n",
    "    (\"ACME\", \"Kate\", \"09/04\"),\n",
    "    (\"ACME\", \"Albert\", \"09/04\"),\n",
    "    (\"Databricks\", \"Ali\", \"09/04\"),\n",
    "], schema=[\"company_name\", \"employee_name\", \"dob\"],\n",
    "   name=\"employees\")\n",
    "employees"
   ]
  },
  {
   "cell_type": "markdown",
   "metadata": {
    "collapsed": true
   },
   "source": [
    "Now, here is the definition of the birthday paradox function. It is pretty simple code:"
   ]
  },
  {
   "cell_type": "code",
   "execution_count": 4,
   "metadata": {
    "collapsed": true
   },
   "outputs": [],
   "source": [
    "# The number of people who share a birthday date with someone else.\n",
    "# Takes a column of data containing birthdates.\n",
    "def paradoxal_count(c):\n",
    "    with ks.scope(\"p_count\"): # Make it pretty:\n",
    "        g = c.groupby(c).agg({'num_employees': f.count}, name=\"agg_count\")\n",
    "        s = f.sum(g.num_employees[g.num_employees>=2], name=\"paradoxical_employees\")\n",
    "        return s\n"
   ]
  },
  {
   "cell_type": "markdown",
   "metadata": {
    "collapsed": true
   },
   "source": [
    "We can try it out on a simple dataset. Unlike spark, note that columns and datasets are the same for data with single elements.\n",
    "\n",
    "It correctly found that 2 people share the same January 1st birth date."
   ]
  },
  {
   "cell_type": "code",
   "execution_count": 5,
   "metadata": {},
   "outputs": [
    {
     "data": {
      "text/plain": [
       "(int, int_value: 2\n",
       ")"
      ]
     },
     "execution_count": 5,
     "metadata": {},
     "output_type": "execute_result"
    }
   ],
   "source": [
    "df = ks.dataframe([\"1/1\", \"3/1\", \"1/1\"])\n",
    "s.run(paradoxal_count(df))"
   ]
  },
  {
   "cell_type": "markdown",
   "metadata": {},
   "source": [
    "Now that we have this nice function, let's use against each of the companies in our dataset.\n",
    "\n",
    "Notice that you can directly plug the function, no need to do translation, etc. This is impossible to do in Spark for complex functions like this one.\n",
    "\n",
    "We get at the end a daframe with the name of the company and the number of employees that share the same birthdate:"
   ]
  },
  {
   "cell_type": "code",
   "execution_count": 6,
   "metadata": {},
   "outputs": [
    {
     "data": {
      "text/plain": [
       "/agg_post18@org.spark.StructuredTransform:{company_name:string, paradoxical_employees:int}"
      ]
     },
     "execution_count": 6,
     "metadata": {},
     "output_type": "execute_result"
    }
   ],
   "source": [
    "# Now use this to group by companies:\n",
    "res = (employees.dob\n",
    "       .groupby(employees.company_name)\n",
    "       .agg({\n",
    "           \"paradoxical_employees\": paradoxal_count\n",
    "       }))\n",
    "res"
   ]
  },
  {
   "cell_type": "code",
   "execution_count": 7,
   "metadata": {},
   "outputs": [
    {
     "data": {
      "text/plain": [
       "/agg_post29@org.spark.StructuredTransform:{company_name:string, paradoxical_employees:int}"
      ]
     },
     "execution_count": 7,
     "metadata": {},
     "output_type": "execute_result"
    }
   ],
   "source": [
    "# Now use this to group by companies:\n",
    "res = (employees\n",
    "       .groupby(employees.company_name)\n",
    "       .agg({\n",
    "           \"paradoxical_employees\": paradoxal_count\n",
    "       }))\n",
    "res"
   ]
  },
  {
   "cell_type": "code",
   "execution_count": 8,
   "metadata": {},
   "outputs": [
    {
     "data": {
      "text/plain": [
       "/employees@org.spark.DistributedLiteral:{company_name:string, employee_name:string, dob:string}"
      ]
     },
     "execution_count": 8,
     "metadata": {},
     "output_type": "execute_result"
    }
   ],
   "source": [
    "employees"
   ]
  },
  {
   "cell_type": "code",
   "execution_count": 9,
   "metadata": {},
   "outputs": [
    {
     "data": {
      "text/plain": [
       "KeyedGroup(ref=/employees@org.spark.DistributedLiteral:{company_name:string, employee_name:string, dob:string}, key=string, value={company_name:string, employee_name:string, dob:string})"
      ]
     },
     "execution_count": 9,
     "metadata": {},
     "output_type": "execute_result"
    }
   ],
   "source": [
    "employees.groupby(employees.company_name)"
   ]
  },
  {
   "cell_type": "code",
   "execution_count": 10,
   "metadata": {},
   "outputs": [
    {
     "data": {
      "text/plain": [
       "/agg_post35@org.spark.StructuredTransform:{company_name:string, xx:int}"
      ]
     },
     "execution_count": 10,
     "metadata": {},
     "output_type": "execute_result"
    }
   ],
   "source": [
    "employees.groupby(employees.company_name).agg({\"xx\": f.count})"
   ]
  },
  {
   "cell_type": "markdown",
   "metadata": {},
   "source": [
    "Time to collect and see the content:"
   ]
  },
  {
   "cell_type": "code",
   "execution_count": 11,
   "metadata": {},
   "outputs": [
    {
     "data": {
      "text/plain": [
       "/collect_list36!org.spark.StructuredReduce:[{company_name:string, paradoxical_employees:int}]"
      ]
     },
     "execution_count": 11,
     "metadata": {},
     "output_type": "execute_result"
    }
   ],
   "source": [
    "o = f.collect(res)\n",
    "o"
   ]
  },
  {
   "cell_type": "code",
   "execution_count": 12,
   "metadata": {},
   "outputs": [
    {
     "data": {
      "text/plain": [
       "<karps.computation.Computation at 0x10d6501d0>"
      ]
     },
     "execution_count": 12,
     "metadata": {},
     "output_type": "execute_result"
    }
   ],
   "source": [
    "comp = s.compute(o)\n",
    "comp"
   ]
  },
  {
   "cell_type": "markdown",
   "metadata": {
    "collapsed": true
   },
   "source": [
    "Let's look under the hood to see how this gets translated.\n",
    "\n",
    "The transformation is defined using two nested first-orderd functions, that get collected using the `FunctionalShuffle` operation called `shuffle17`."
   ]
  },
  {
   "cell_type": "code",
   "execution_count": 13,
   "metadata": {},
   "outputs": [
    {
     "data": {
      "text/html": [
       "\n",
       "        <iframe seamless style=\"width:1000px;height:620px;border:0\" srcdoc=\"\n",
       "        <script src=&quot;//cdnjs.cloudflare.com/ajax/libs/polymer/0.3.3/platform.js&quot;></script>\n",
       "        <script>\n",
       "          function load() {\n",
       "            document.getElementById(&quot;graph0.3167739658993586&quot;).pbtxt = 'node {\\n  name: &quot;p_count/placeholder20&quot;\\n  op: &quot;org.spark.Placeholder&quot;\\n  device: &quot;/spark:0&quot;\\n  attr {\\n    key: &quot;locality&quot;\\n    value {\\n      s: &quot;Distributed&quot;\\n    }\\n  }\\n  attr {\\n    key: &quot;type&quot;\\n    value {\\n      s: &quot;{company_name:string employee_name:string dob:string}&quot;\\n    }\\n  }\\n  attr {\\n    key: &quot;zextra&quot;\\n    value {\\n      s: &quot;locality: DISTRIBUTEDdata_type {  struct_type {    fields {      field_name: .company_name. field_type { basic_type: STRING }    }    fields {      field_name: .employee_name. field_type { basic_type: STRING }    }    fields { field_name: .dob. field_type { basic_type: STRING } }  }}&quot;\\n    }\\n  }\\n}\\nnode {\\n  name: &quot;employees&quot;\\n  op: &quot;org.spark.DistributedLiteral&quot;\\n  device: &quot;/spark:0&quot;\\n  attr {\\n    key: &quot;locality&quot;\\n    value {\\n      s: &quot;Distributed&quot;\\n    }\\n  }\\n  attr {\\n    key: &quot;type&quot;\\n    value {\\n      s: &quot;{company_name:string employee_name:string dob:string}&quot;\\n    }\\n  }\\n  attr {\\n    key: &quot;zextra&quot;\\n    value {\\n      s: &quot;cell {  array_value {    values {      struct_value {        values { string_value: .ACME. }        values { string_value: .John. }        values { string_value: .12/01. }      }    }    values {      struct_value {        values { string_value: .ACME. }        values { string_value: .Kate. }        values { string_value: .09/04. }      }    }    values {      struct_value {        values { string_value: .ACME. }        values { string_value: .Albert. }        values { string_value: .09/04. }      }    }    values {      struct_value {        values { string_value: .Databricks. }        values { string_value: .Ali. }        values { string_value: .09/04. }      }    }  }}cell_type {  array_type {    struct_type {      fields {        field_name: .company_name. field_type { basic_type: STRING }      }      fields {        field_name: .employee_name. field_type { basic_type: STRING }      }      fields { field_name: .dob. field_type { basic_type: STRING } }    }  }}&quot;\\n    }\\n  }\\n}\\nnode {\\n  name: &quot;agg_pre27&quot;\\n  op: &quot;org.spark.StructuredTransform&quot;\\n  input: &quot;employees&quot;\\n  device: &quot;/spark:0&quot;\\n  attr {\\n    key: &quot;locality&quot;\\n    value {\\n      s: &quot;Distributed&quot;\\n    }\\n  }\\n  attr {\\n    key: &quot;type&quot;\\n    value {\\n      s: &quot;{key:string value:{company_name:string employee_name:string dob:string}}&quot;\\n    }\\n  }\\n  attr {\\n    key: &quot;zextra&quot;\\n    value {\\n      s: &quot;col_op {  struct {    fields { extraction { path: .company_name. } field_name: .key. }    fields { extraction { } field_name: .value. }  }}&quot;\\n    }\\n  }\\n}\\nnode {\\n  name: &quot;p_count/structured_transform21&quot;\\n  op: &quot;org.spark.StructuredTransform&quot;\\n  input: &quot;p_count/placeholder20&quot;\\n  device: &quot;/spark:0&quot;\\n  attr {\\n    key: &quot;locality&quot;\\n    value {\\n      s: &quot;Distributed&quot;\\n    }\\n  }\\n  attr {\\n    key: &quot;type&quot;\\n    value {\\n      s: &quot;{company_name:string employee_name:string dob:string}&quot;\\n    }\\n  }\\n  attr {\\n    key: &quot;zextra&quot;\\n    value {\\n      s: &quot;col_op { extraction { } }&quot;\\n    }\\n  }\\n}\\nnode {\\n  name: &quot;p_count/count22&quot;\\n  op: &quot;org.spark.StructuredReduce&quot;\\n  input: &quot;p_count/structured_transform21&quot;\\n  device: &quot;/spark:0&quot;\\n  attr {\\n    key: &quot;locality&quot;\\n    value {\\n      s: &quot;Local&quot;\\n    }\\n  }\\n  attr {\\n    key: &quot;type&quot;\\n    value {\\n      s: &quot;int&quot;\\n    }\\n  }\\n  attr {\\n    key: &quot;zextra&quot;\\n    value {\\n      s: &quot;agg_op {  op {    function_name: .count. inputs { } expected_type { basic_type: INT }  }}&quot;\\n    }\\n  }\\n}\\nnode {\\n  name: &quot;placeholder19&quot;\\n  op: &quot;org.spark.Placeholder&quot;\\n  device: &quot;/spark:0&quot;\\n  attr {\\n    key: &quot;locality&quot;\\n    value {\\n      s: &quot;Distributed&quot;\\n    }\\n  }\\n  attr {\\n    key: &quot;type&quot;\\n    value {\\n      s: &quot;{company_name:string employee_name:string dob:string}&quot;\\n    }\\n  }\\n  attr {\\n    key: &quot;zextra&quot;\\n    value {\\n      s: &quot;locality: DISTRIBUTEDdata_type {  struct_type {    fields {      field_name: .company_name. field_type { basic_type: STRING }    }    fields {      field_name: .employee_name. field_type { basic_type: STRING }    }    fields { field_name: .dob. field_type { basic_type: STRING } }  }}&quot;\\n    }\\n  }\\n}\\nnode {\\n  name: &quot;p_count/agg_pre23&quot;\\n  op: &quot;org.spark.StructuredTransform&quot;\\n  input: &quot;placeholder19&quot;\\n  device: &quot;/spark:0&quot;\\n  attr {\\n    key: &quot;locality&quot;\\n    value {\\n      s: &quot;Distributed&quot;\\n    }\\n  }\\n  attr {\\n    key: &quot;type&quot;\\n    value {\\n      s: &quot;{key:{company_name:string employee_name:string dob:string} value:{company_name:string employee_name:string dob:string}}&quot;\\n    }\\n  }\\n  attr {\\n    key: &quot;zextra&quot;\\n    value {\\n      s: &quot;col_op {  struct {    fields { extraction { } field_name: .key. }    fields { extraction { } field_name: .value. }  }}&quot;\\n    }\\n  }\\n}\\nnode {\\n  name: &quot;p_count/agg_count&quot;\\n  op: &quot;org.spark.FunctionalShuffle&quot;\\n  input: &quot;p_count/agg_pre23&quot;\\n  input: &quot;p_count/placeholder20&quot;\\n  input: &quot;p_count/count22&quot;\\n  device: &quot;/spark:0&quot;\\n  attr {\\n    key: &quot;locality&quot;\\n    value {\\n      s: &quot;Distributed&quot;\\n    }\\n  }\\n  attr {\\n    key: &quot;type&quot;\\n    value {\\n      s: &quot;{key:{company_name:string employee_name:string dob:string} value:int}&quot;\\n    }\\n  }\\n  attr {\\n    key: &quot;zextra&quot;\\n    value {\\n      s: &quot;&quot;\\n    }\\n  }\\n}\\nnode {\\n  name: &quot;p_count/agg_post24&quot;\\n  op: &quot;org.spark.StructuredTransform&quot;\\n  input: &quot;p_count/agg_count&quot;\\n  device: &quot;/spark:0&quot;\\n  attr {\\n    key: &quot;locality&quot;\\n    value {\\n      s: &quot;Distributed&quot;\\n    }\\n  }\\n  attr {\\n    key: &quot;type&quot;\\n    value {\\n      s: &quot;{key:{company_name:string employee_name:string dob:string} num_employees:int}&quot;\\n    }\\n  }\\n  attr {\\n    key: &quot;zextra&quot;\\n    value {\\n      s: &quot;col_op {  struct {    fields { extraction { path: .key. } field_name: .key. }    fields { extraction { path: .value. } field_name: .num_employees. }  }}&quot;\\n    }\\n  }\\n}\\nnode {\\n  name: &quot;p_count/filter_pre25&quot;\\n  op: &quot;org.spark.StructuredTransform&quot;\\n  input: &quot;p_count/agg_post24&quot;\\n  device: &quot;/spark:0&quot;\\n  attr {\\n    key: &quot;locality&quot;\\n    value {\\n      s: &quot;Distributed&quot;\\n    }\\n  }\\n  attr {\\n    key: &quot;type&quot;\\n    value {\\n      s: &quot;{filter:bool value:int}&quot;\\n    }\\n  }\\n  attr {\\n    key: &quot;zextra&quot;\\n    value {\\n      s: &quot;col_op {  struct {    fields {      function {        function_name: .greater_equal.        inputs { extraction { path: .num_employees. } }        inputs {          literal {            content { cell { int_value: 2 } cell_type { basic_type: INT } }          }        }        expected_type { basic_type: BOOL }      }      field_name: .filter.    }    fields { extraction { path: .num_employees. } field_name: .value. }  }}&quot;\\n    }\\n  }\\n}\\nnode {\\n  name: &quot;p_count/filter26&quot;\\n  op: &quot;org.spark.Filter&quot;\\n  input: &quot;p_count/filter_pre25&quot;\\n  device: &quot;/spark:0&quot;\\n  attr {\\n    key: &quot;locality&quot;\\n    value {\\n      s: &quot;Distributed&quot;\\n    }\\n  }\\n  attr {\\n    key: &quot;type&quot;\\n    value {\\n      s: &quot;int&quot;\\n    }\\n  }\\n  attr {\\n    key: &quot;zextra&quot;\\n    value {\\n      s: &quot;&quot;\\n    }\\n  }\\n}\\nnode {\\n  name: &quot;p_count/paradoxical_employees&quot;\\n  op: &quot;org.spark.StructuredReduce&quot;\\n  input: &quot;p_count/filter26&quot;\\n  device: &quot;/spark:0&quot;\\n  attr {\\n    key: &quot;locality&quot;\\n    value {\\n      s: &quot;Local&quot;\\n    }\\n  }\\n  attr {\\n    key: &quot;type&quot;\\n    value {\\n      s: &quot;int&quot;\\n    }\\n  }\\n  attr {\\n    key: &quot;zextra&quot;\\n    value {\\n      s: &quot;agg_op {  op {    function_name: .sum. inputs { } expected_type { basic_type: INT }  }}&quot;\\n    }\\n  }\\n}\\nnode {\\n  name: &quot;shuffle28&quot;\\n  op: &quot;org.spark.FunctionalShuffle&quot;\\n  input: &quot;agg_pre27&quot;\\n  input: &quot;placeholder19&quot;\\n  input: &quot;p_count/paradoxical_employees&quot;\\n  device: &quot;/spark:0&quot;\\n  attr {\\n    key: &quot;locality&quot;\\n    value {\\n      s: &quot;Distributed&quot;\\n    }\\n  }\\n  attr {\\n    key: &quot;type&quot;\\n    value {\\n      s: &quot;{key:string value:int}&quot;\\n    }\\n  }\\n  attr {\\n    key: &quot;zextra&quot;\\n    value {\\n      s: &quot;&quot;\\n    }\\n  }\\n}\\nnode {\\n  name: &quot;agg_post29&quot;\\n  op: &quot;org.spark.StructuredTransform&quot;\\n  input: &quot;shuffle28&quot;\\n  device: &quot;/spark:0&quot;\\n  attr {\\n    key: &quot;locality&quot;\\n    value {\\n      s: &quot;Distributed&quot;\\n    }\\n  }\\n  attr {\\n    key: &quot;type&quot;\\n    value {\\n      s: &quot;{company_name:string paradoxical_employees:int}&quot;\\n    }\\n  }\\n  attr {\\n    key: &quot;zextra&quot;\\n    value {\\n      s: &quot;col_op {  struct {    fields { extraction { path: .key. } field_name: .company_name. }    fields {      extraction { path: .value. } field_name: .paradoxical_employees.    }  }}&quot;\\n    }\\n  }\\n}\\nnode {\\n  name: &quot;collect_list36&quot;\\n  op: &quot;org.spark.StructuredReduce&quot;\\n  input: &quot;agg_post29&quot;\\n  device: &quot;/spark:0&quot;\\n  attr {\\n    key: &quot;locality&quot;\\n    value {\\n      s: &quot;Local&quot;\\n    }\\n  }\\n  attr {\\n    key: &quot;type&quot;\\n    value {\\n      s: &quot;[{company_name:string paradoxical_employees:int}]&quot;\\n    }\\n  }\\n  attr {\\n    key: &quot;zextra&quot;\\n    value {\\n      s: &quot;agg_op {  op {    function_name: .collect_list.    inputs { }    expected_type {      array_type {        struct_type {          fields {            field_name: .company_name. field_type { basic_type: STRING }          }          fields {            field_name: .paradoxical_employees. field_type { basic_type: INT }          }        }      }    }  }}&quot;\\n    }\\n  }\\n}\\n';\n",
       "          }\n",
       "        </script>\n",
       "        <link rel=&quot;import&quot; href=&quot;https://tensorboard.appspot.com/tf-graph-basic.build.html&quot; onload=load()>\n",
       "        <div style=&quot;height:600px&quot;>\n",
       "          <tf-graph-basic id=&quot;graph0.3167739658993586&quot;></tf-graph-basic>\n",
       "        </div>\n",
       "    \"></iframe>\n",
       "    "
      ],
      "text/plain": [
       "<IPython.core.display.HTML object>"
      ]
     },
     "metadata": {},
     "output_type": "display_data"
    }
   ],
   "source": [
    "show_phase(comp, \"initial\")"
   ]
  },
  {
   "cell_type": "markdown",
   "metadata": {},
   "source": [
    "After optimization and flattening, the graph actually turns out to be a linear graph with a first shuffle, a filter, a second shuffle and then a final aggregate. You can click around to see how computations are being done."
   ]
  },
  {
   "cell_type": "code",
   "execution_count": 14,
   "metadata": {},
   "outputs": [
    {
     "data": {
      "text/html": [
       "\n",
       "        <iframe seamless style=\"width:1000px;height:620px;border:0\" srcdoc=\"\n",
       "        <script src=&quot;//cdnjs.cloudflare.com/ajax/libs/polymer/0.3.3/platform.js&quot;></script>\n",
       "        <script>\n",
       "          function load() {\n",
       "            document.getElementById(&quot;graph0.16596711142534737&quot;).pbtxt = 'node {\\n  name: &quot;employees&quot;\\n  op: &quot;org.spark.DistributedLiteral&quot;\\n  device: &quot;/spark:0&quot;\\n  attr {\\n    key: &quot;locality&quot;\\n    value {\\n      s: &quot;Distributed&quot;\\n    }\\n  }\\n  attr {\\n    key: &quot;type&quot;\\n    value {\\n      s: &quot;{company_name:string employee_name:string dob:string}&quot;\\n    }\\n  }\\n  attr {\\n    key: &quot;zextra&quot;\\n    value {\\n      s: &quot;cell {  array_value {    values {      struct_value {        values { string_value: .ACME. }        values { string_value: .John. }        values { string_value: .12/01. }      }    }    values {      struct_value {        values { string_value: .ACME. }        values { string_value: .Kate. }        values { string_value: .09/04. }      }    }    values {      struct_value {        values { string_value: .ACME. }        values { string_value: .Albert. }        values { string_value: .09/04. }      }    }    values {      struct_value {        values { string_value: .Databricks. }        values { string_value: .Ali. }        values { string_value: .09/04. }      }    }  }}cell_type {  array_type {    struct_type {      fields {        field_name: .company_name. field_type { basic_type: STRING }      }      fields {        field_name: .employee_name. field_type { basic_type: STRING }      }      fields { field_name: .dob. field_type { basic_type: STRING } }    }  }}&quot;\\n    }\\n  }\\n}\\nnode {\\n  name: &quot;agg_pre27&quot;\\n  op: &quot;org.spark.StructuredTransform&quot;\\n  input: &quot;employees&quot;\\n  device: &quot;/spark:0&quot;\\n  attr {\\n    key: &quot;locality&quot;\\n    value {\\n      s: &quot;Distributed&quot;\\n    }\\n  }\\n  attr {\\n    key: &quot;type&quot;\\n    value {\\n      s: &quot;{key:string value:{company_name:string employee_name:string dob:string}}&quot;\\n    }\\n  }\\n  attr {\\n    key: &quot;zextra&quot;\\n    value {\\n      s: &quot;col_op {  struct {    fields { extraction { path: .company_name. } field_name: .key. }    fields { extraction { } field_name: .value. }  }}&quot;\\n    }\\n  }\\n}\\nnode {\\n  name: &quot;placeholder19&quot;\\n  op: &quot;org.spark.StructuredTransform&quot;\\n  input: &quot;agg_pre27&quot;\\n  device: &quot;/spark:0&quot;\\n  attr {\\n    key: &quot;locality&quot;\\n    value {\\n      s: &quot;Distributed&quot;\\n    }\\n  }\\n  attr {\\n    key: &quot;type&quot;\\n    value {\\n      s: &quot;{key:{key_1:string} value:{company_name:string employee_name:string dob:string}}&quot;\\n    }\\n  }\\n  attr {\\n    key: &quot;zextra&quot;\\n    value {\\n      s: &quot;col_op {  struct {    fields {      struct {        fields { extraction { path: .key. } field_name: .key_1. }      }      field_name: .key.    }    fields { extraction { path: .value. } field_name: .value. }  }}&quot;\\n    }\\n  }\\n}\\nnode {\\n  name: &quot;p_count/agg_pre23&quot;\\n  op: &quot;org.spark.StructuredTransform&quot;\\n  input: &quot;placeholder19&quot;\\n  device: &quot;/spark:0&quot;\\n  attr {\\n    key: &quot;locality&quot;\\n    value {\\n      s: &quot;Distributed&quot;\\n    }\\n  }\\n  attr {\\n    key: &quot;type&quot;\\n    value {\\n      s: &quot;{key:{key_1:string} value:{key:{company_name:string employee_name:string dob:string} value:{company_name:string employee_name:string dob:string}}}&quot;\\n    }\\n  }\\n  attr {\\n    key: &quot;zextra&quot;\\n    value {\\n      s: &quot;col_op {  struct {    fields { extraction { path: .key. } field_name: .key. }    fields {      struct {        fields { extraction { path: .value. } field_name: .key. }        fields { extraction { path: .value. } field_name: .value. }      }      field_name: .value.    }  }}&quot;\\n    }\\n  }\\n}\\nnode {\\n  name: &quot;p_count/placeholder20&quot;\\n  op: &quot;org.spark.StructuredTransform&quot;\\n  input: &quot;p_count/agg_pre23&quot;\\n  device: &quot;/spark:0&quot;\\n  attr {\\n    key: &quot;locality&quot;\\n    value {\\n      s: &quot;Distributed&quot;\\n    }\\n  }\\n  attr {\\n    key: &quot;type&quot;\\n    value {\\n      s: &quot;{key:{key_2:{company_name:string employee_name:string dob:string} key_1:string} value:{company_name:string employee_name:string dob:string}}&quot;\\n    }\\n  }\\n  attr {\\n    key: &quot;zextra&quot;\\n    value {\\n      s: &quot;col_op {  struct {    fields {      struct {        fields {          extraction { path: .key. path: .key_1. } field_name: .key_1.        }        fields {          extraction { path: .value. path: .key. } field_name: .key_2.        }      }      field_name: .key.    }    fields {      extraction { path: .value. path: .value. } field_name: .value.    }  }}&quot;\\n    }\\n  }\\n}\\nnode {\\n  name: &quot;p_count/structured_transform21&quot;\\n  op: &quot;org.spark.StructuredTransform&quot;\\n  input: &quot;p_count/placeholder20&quot;\\n  device: &quot;/spark:0&quot;\\n  attr {\\n    key: &quot;locality&quot;\\n    value {\\n      s: &quot;Distributed&quot;\\n    }\\n  }\\n  attr {\\n    key: &quot;type&quot;\\n    value {\\n      s: &quot;{key:{key_2:string key_1:{company_name:string employee_name:string dob:string}} value:{company_name:string employee_name:string dob:string}}&quot;\\n    }\\n  }\\n  attr {\\n    key: &quot;zextra&quot;\\n    value {\\n      s: &quot;col_op {  struct {    fields { extraction { path: .key. } field_name: .key. }    fields { extraction { path: .value. } field_name: .value. }  }}&quot;\\n    }\\n  }\\n}\\nnode {\\n  name: &quot;p_count/count22&quot;\\n  op: &quot;org.spark.GroupedReduction&quot;\\n  input: &quot;p_count/structured_transform21&quot;\\n  device: &quot;/spark:0&quot;\\n  attr {\\n    key: &quot;locality&quot;\\n    value {\\n      s: &quot;Distributed&quot;\\n    }\\n  }\\n  attr {\\n    key: &quot;type&quot;\\n    value {\\n      s: &quot;{key:{key_2:{company_name:string employee_name:string dob:string} key_1:string} value:int}&quot;\\n    }\\n  }\\n  attr {\\n    key: &quot;zextra&quot;\\n    value {\\n      s: &quot;agg_op {  op {    function_name: .count. inputs { } expected_type { basic_type: INT }  }}&quot;\\n    }\\n  }\\n}\\nnode {\\n  name: &quot;p_count/agg_count&quot;\\n  op: &quot;org.spark.StructuredTransform&quot;\\n  input: &quot;p_count/count22&quot;\\n  device: &quot;/spark:0&quot;\\n  attr {\\n    key: &quot;locality&quot;\\n    value {\\n      s: &quot;Distributed&quot;\\n    }\\n  }\\n  attr {\\n    key: &quot;type&quot;\\n    value {\\n      s: &quot;{key:{key_1:{company_name:string employee_name:string dob:string}} value:int}&quot;\\n    }\\n  }\\n  attr {\\n    key: &quot;zextra&quot;\\n    value {\\n      s: &quot;col_op {  struct {    fields {      struct {        fields {          extraction { path: .key. path: .key_1. } field_name: .key_1.        }      }      field_name: .key.    }    fields {      struct {        fields {          extraction { path: .key. path: .key_2. } field_name: .key.        }        fields { extraction { path: .value. } field_name: .value. }      }      field_name: .value.    }  }}&quot;\\n    }\\n  }\\n}\\nnode {\\n  name: &quot;p_count/agg_post24&quot;\\n  op: &quot;org.spark.StructuredTransform&quot;\\n  input: &quot;p_count/agg_count&quot;\\n  device: &quot;/spark:0&quot;\\n  attr {\\n    key: &quot;locality&quot;\\n    value {\\n      s: &quot;Distributed&quot;\\n    }\\n  }\\n  attr {\\n    key: &quot;type&quot;\\n    value {\\n      s: &quot;{key:{key_1:{company_name:string employee_name:string dob:string}} value:{key:{company_name:string employee_name:string dob:string} num_employees:int}}&quot;\\n    }\\n  }\\n  attr {\\n    key: &quot;zextra&quot;\\n    value {\\n      s: &quot;col_op {  struct {    fields { extraction { path: .key. } field_name: .key. }    fields {      struct {        fields {          extraction { path: .value. path: .key. } field_name: .key.        }        fields {          extraction { path: .value. path: .value. }          field_name: .num_employees.        }      }      field_name: .value.    }  }}&quot;\\n    }\\n  }\\n}\\nnode {\\n  name: &quot;p_count/filter_pre25&quot;\\n  op: &quot;org.spark.StructuredTransform&quot;\\n  input: &quot;p_count/agg_post24&quot;\\n  device: &quot;/spark:0&quot;\\n  attr {\\n    key: &quot;locality&quot;\\n    value {\\n      s: &quot;Distributed&quot;\\n    }\\n  }\\n  attr {\\n    key: &quot;type&quot;\\n    value {\\n      s: &quot;{key:{key_1:{company_name:string employee_name:string dob:string}} value:{filter:bool value:int}}&quot;\\n    }\\n  }\\n  attr {\\n    key: &quot;zextra&quot;\\n    value {\\n      s: &quot;col_op {  struct {    fields { extraction { path: .key. } field_name: .key. }    fields {      struct {        fields {          function {            function_name: .greater_equal.            inputs { extraction { path: .value. path: .num_employees. } }            inputs {              literal {                content { cell { int_value: 2 } cell_type { basic_type: INT } }              }            }            expected_type { basic_type: BOOL }          }          field_name: .filter.        }        fields {          extraction { path: .value. path: .num_employees. }          field_name: .value.        }      }      field_name: .value.    }  }}&quot;\\n    }\\n  }\\n}\\nnode {\\n  name: &quot;p_count/filter26_kagg_filter&quot;\\n  op: &quot;org.spark.StructuredTransform&quot;\\n  input: &quot;p_count/filter_pre25&quot;\\n  device: &quot;/spark:0&quot;\\n  attr {\\n    key: &quot;locality&quot;\\n    value {\\n      s: &quot;Distributed&quot;\\n    }\\n  }\\n  attr {\\n    key: &quot;type&quot;\\n    value {\\n      s: &quot;{filter:bool value:{key:{key_1:{company_name:string employee_name:string dob:string}} value:int}}&quot;\\n    }\\n  }\\n  attr {\\n    key: &quot;zextra&quot;\\n    value {\\n      s: &quot;col_op {  struct {    fields {      extraction { path: .value. path: .filter. } field_name: .filter.    }    fields {      struct {        fields { extraction { path: .key. } field_name: .key. }        fields {          extraction { path: .value. path: .value. } field_name: .value.        }      }      field_name: .value.    }  }}&quot;\\n    }\\n  }\\n}\\nnode {\\n  name: &quot;p_count/filter26&quot;\\n  op: &quot;org.spark.Filter&quot;\\n  input: &quot;p_count/filter26_kagg_filter&quot;\\n  device: &quot;/spark:0&quot;\\n  attr {\\n    key: &quot;locality&quot;\\n    value {\\n      s: &quot;Distributed&quot;\\n    }\\n  }\\n  attr {\\n    key: &quot;type&quot;\\n    value {\\n      s: &quot;{key:{key_1:{company_name:string employee_name:string dob:string}} value:int}&quot;\\n    }\\n  }\\n  attr {\\n    key: &quot;zextra&quot;\\n    value {\\n      s: &quot;&quot;\\n    }\\n  }\\n}\\nnode {\\n  name: &quot;p_count/paradoxical_employees&quot;\\n  op: &quot;org.spark.GroupedReduction&quot;\\n  input: &quot;p_count/filter26&quot;\\n  device: &quot;/spark:0&quot;\\n  attr {\\n    key: &quot;locality&quot;\\n    value {\\n      s: &quot;Distributed&quot;\\n    }\\n  }\\n  attr {\\n    key: &quot;type&quot;\\n    value {\\n      s: &quot;{key:{key_1:{company_name:string employee_name:string dob:string}} value:int}&quot;\\n    }\\n  }\\n  attr {\\n    key: &quot;zextra&quot;\\n    value {\\n      s: &quot;agg_op {  op {    function_name: .sum. inputs { } expected_type { basic_type: INT }  }}&quot;\\n    }\\n  }\\n}\\nnode {\\n  name: &quot;shuffle28&quot;\\n  op: &quot;org.spark.StructuredTransform&quot;\\n  input: &quot;p_count/paradoxical_employees&quot;\\n  device: &quot;/spark:0&quot;\\n  attr {\\n    key: &quot;locality&quot;\\n    value {\\n      s: &quot;Distributed&quot;\\n    }\\n  }\\n  attr {\\n    key: &quot;type&quot;\\n    value {\\n      s: &quot;{key:{company_name:string employee_name:string dob:string} value:int}&quot;\\n    }\\n  }\\n  attr {\\n    key: &quot;zextra&quot;\\n    value {\\n      s: &quot;col_op {  struct {    fields {      extraction { path: .key. path: .key_1. } field_name: .key.    }    fields { extraction { path: .value. } field_name: .value. }  }}&quot;\\n    }\\n  }\\n}\\nnode {\\n  name: &quot;agg_post29&quot;\\n  op: &quot;org.spark.StructuredTransform&quot;\\n  input: &quot;shuffle28&quot;\\n  device: &quot;/spark:0&quot;\\n  attr {\\n    key: &quot;locality&quot;\\n    value {\\n      s: &quot;Distributed&quot;\\n    }\\n  }\\n  attr {\\n    key: &quot;type&quot;\\n    value {\\n      s: &quot;{company_name:string paradoxical_employees:int}&quot;\\n    }\\n  }\\n  attr {\\n    key: &quot;zextra&quot;\\n    value {\\n      s: &quot;col_op {  struct {    fields { extraction { path: .key. } field_name: .company_name. }    fields {      extraction { path: .value. } field_name: .paradoxical_employees.    }  }}&quot;\\n    }\\n  }\\n}\\nnode {\\n  name: &quot;collect_list36&quot;\\n  op: &quot;org.spark.StructuredReduce&quot;\\n  input: &quot;agg_post29&quot;\\n  device: &quot;/spark:0&quot;\\n  attr {\\n    key: &quot;locality&quot;\\n    value {\\n      s: &quot;Local&quot;\\n    }\\n  }\\n  attr {\\n    key: &quot;type&quot;\\n    value {\\n      s: &quot;[{company_name:string paradoxical_employees:int}]&quot;\\n    }\\n  }\\n  attr {\\n    key: &quot;zextra&quot;\\n    value {\\n      s: &quot;agg_op {  op {    function_name: .collect_list.    inputs { }    expected_type {      array_type {        struct_type {          fields {            field_name: .company_name. field_type { basic_type: STRING }          }          fields {            field_name: .paradoxical_employees. field_type { basic_type: INT }          }        }      }    }  }}&quot;\\n    }\\n  }\\n}\\n';\n",
       "          }\n",
       "        </script>\n",
       "        <link rel=&quot;import&quot; href=&quot;https://tensorboard.appspot.com/tf-graph-basic.build.html&quot; onload=load()>\n",
       "        <div style=&quot;height:600px&quot;>\n",
       "          <tf-graph-basic id=&quot;graph0.16596711142534737&quot;></tf-graph-basic>\n",
       "        </div>\n",
       "    \"></iframe>\n",
       "    "
      ],
      "text/plain": [
       "<IPython.core.display.HTML object>"
      ]
     },
     "metadata": {},
     "output_type": "display_data"
    }
   ],
   "source": [
    "show_phase(comp, \"final\")"
   ]
  },
  {
   "cell_type": "markdown",
   "metadata": {},
   "source": [
    "And finally the value:"
   ]
  },
  {
   "cell_type": "code",
   "execution_count": 15,
   "metadata": {},
   "outputs": [
    {
     "data": {
      "text/plain": [
       "([{company_name:string, paradoxical_employees:int}], array_value {\n",
       "}\n",
       ")"
      ]
     },
     "execution_count": 15,
     "metadata": {},
     "output_type": "execute_result"
    }
   ],
   "source": [
    "comp.values()"
   ]
  },
  {
   "cell_type": "markdown",
   "metadata": {},
   "source": [
    "As a conclusion, with Karps, you can take _any_ reasonable function and reuse it in arbitrary ways in a functional manner, in a type-safe manner. Karps will write for you the complex SQL queries that you would have to write by hand. All errors are detected well before the actual runtime, which greatly simplifies the debugging.\n",
    "\n",
    "Laziness and structured transforms bring to Spark some fundamental characteristics such as modularity, reusability, better testing and fast-fail comprehensive error checking, on top of automatic performance optimizations."
   ]
  },
  {
   "cell_type": "code",
   "execution_count": 16,
   "metadata": {},
   "outputs": [
    {
     "data": {
      "text/html": [
       "\n",
       "        <iframe seamless style=\"width:1000px;height:620px;border:0\" srcdoc=\"\n",
       "        <script src=&quot;//cdnjs.cloudflare.com/ajax/libs/polymer/0.3.3/platform.js&quot;></script>\n",
       "        <script>\n",
       "          function load() {\n",
       "            document.getElementById(&quot;graph0.035144500973009585&quot;).pbtxt = 'node {\\n  name: &quot;employees/LogicalRDD_0&quot;\\n  op: &quot;LogicalRDD&quot;\\n  attr {\\n    key: &quot;schema&quot;\\n    value {\\n      s: &quot;root\\\\n |-- company_name: string (nullable = false)\\\\n |-- employee_name: string (nullable = false)\\\\n |-- dob: string (nullable = false)\\\\n&quot;\\n    }\\n  }\\n  attr {\\n    key: &quot;simple&quot;\\n    value {\\n      s: &quot;LogicalRDD [company_name#189, employee_name#190, dob#191]&quot;\\n    }\\n  }\\n  attr {\\n    key: &quot;verbose&quot;\\n    value {\\n      s: &quot;LogicalRDD [company_name#189, employee_name#190, dob#191]&quot;\\n    }\\n  }\\n}\\nnode {\\n  name: &quot;agg_pre27/LogicalRDD_0&quot;\\n  op: &quot;LogicalRDD&quot;\\n  input: &quot;^employees/LogicalRDD_0&quot;\\n  attr {\\n    key: &quot;schema&quot;\\n    value {\\n      s: &quot;root\\\\n |-- key: string (nullable = false)\\\\n |-- value: struct (nullable = false)\\\\n |    |-- company_name: string (nullable = false)\\\\n |    |-- employee_name: string (nullable = false)\\\\n |    |-- dob: string (nullable = false)\\\\n&quot;\\n    }\\n  }\\n  attr {\\n    key: &quot;simple&quot;\\n    value {\\n      s: &quot;LogicalRDD [key#209, value#210]&quot;\\n    }\\n  }\\n  attr {\\n    key: &quot;verbose&quot;\\n    value {\\n      s: &quot;LogicalRDD [key#209, value#210]&quot;\\n    }\\n  }\\n}\\nnode {\\n  name: &quot;placeholder19/LogicalRDD_0&quot;\\n  op: &quot;LogicalRDD&quot;\\n  input: &quot;^agg_pre27/LogicalRDD_0&quot;\\n  attr {\\n    key: &quot;schema&quot;\\n    value {\\n      s: &quot;root\\\\n |-- key: struct (nullable = false)\\\\n |    |-- key_1: string (nullable = false)\\\\n |-- value: struct (nullable = false)\\\\n |    |-- company_name: string (nullable = false)\\\\n |    |-- employee_name: string (nullable = false)\\\\n |    |-- dob: string (nullable = false)\\\\n&quot;\\n    }\\n  }\\n  attr {\\n    key: &quot;simple&quot;\\n    value {\\n      s: &quot;LogicalRDD [key#229, value#230]&quot;\\n    }\\n  }\\n  attr {\\n    key: &quot;verbose&quot;\\n    value {\\n      s: &quot;LogicalRDD [key#229, value#230]&quot;\\n    }\\n  }\\n}\\nnode {\\n  name: &quot;p_count/agg_pre23/LogicalRDD_0&quot;\\n  op: &quot;LogicalRDD&quot;\\n  input: &quot;^placeholder19/LogicalRDD_0&quot;\\n  attr {\\n    key: &quot;schema&quot;\\n    value {\\n      s: &quot;root\\\\n |-- key: struct (nullable = false)\\\\n |    |-- key_1: string (nullable = false)\\\\n |-- value: struct (nullable = false)\\\\n |    |-- key: struct (nullable = false)\\\\n |    |    |-- company_name: string (nullable = false)\\\\n |    |    |-- employee_name: string (nullable = false)\\\\n |    |    |-- dob: string (nullable = false)\\\\n |    |-- value: struct (nullable = false)\\\\n |    |    |-- company_name: string (nullable = false)\\\\n |    |    |-- employee_name: string (nullable = false)\\\\n |    |    |-- dob: string (nullable = false)\\\\n&quot;\\n    }\\n  }\\n  attr {\\n    key: &quot;simple&quot;\\n    value {\\n      s: &quot;LogicalRDD [key#251, value#252]&quot;\\n    }\\n  }\\n  attr {\\n    key: &quot;verbose&quot;\\n    value {\\n      s: &quot;LogicalRDD [key#251, value#252]&quot;\\n    }\\n  }\\n}\\nnode {\\n  name: &quot;p_count/placeholder20/LogicalRDD_0&quot;\\n  op: &quot;LogicalRDD&quot;\\n  input: &quot;^p_count/agg_pre23/LogicalRDD_0&quot;\\n  attr {\\n    key: &quot;schema&quot;\\n    value {\\n      s: &quot;root\\\\n |-- key: struct (nullable = false)\\\\n |    |-- key_1: string (nullable = false)\\\\n |    |-- key_2: struct (nullable = false)\\\\n |    |    |-- company_name: string (nullable = false)\\\\n |    |    |-- employee_name: string (nullable = false)\\\\n |    |    |-- dob: string (nullable = false)\\\\n |-- value: struct (nullable = false)\\\\n |    |-- company_name: string (nullable = false)\\\\n |    |-- employee_name: string (nullable = false)\\\\n |    |-- dob: string (nullable = false)\\\\n&quot;\\n    }\\n  }\\n  attr {\\n    key: &quot;simple&quot;\\n    value {\\n      s: &quot;LogicalRDD [key#273, value#274]&quot;\\n    }\\n  }\\n  attr {\\n    key: &quot;verbose&quot;\\n    value {\\n      s: &quot;LogicalRDD [key#273, value#274]&quot;\\n    }\\n  }\\n}\\nnode {\\n  name: &quot;p_count/structured_transform21/LogicalRDD_0&quot;\\n  op: &quot;LogicalRDD&quot;\\n  input: &quot;^p_count/placeholder20/LogicalRDD_0&quot;\\n  attr {\\n    key: &quot;schema&quot;\\n    value {\\n      s: &quot;root\\\\n |-- key: struct (nullable = false)\\\\n |    |-- key_1: string (nullable = false)\\\\n |    |-- key_2: struct (nullable = false)\\\\n |    |    |-- company_name: string (nullable = false)\\\\n |    |    |-- employee_name: string (nullable = false)\\\\n |    |    |-- dob: string (nullable = false)\\\\n |-- value: struct (nullable = false)\\\\n |    |-- company_name: string (nullable = false)\\\\n |    |-- employee_name: string (nullable = false)\\\\n |    |-- dob: string (nullable = false)\\\\n&quot;\\n    }\\n  }\\n  attr {\\n    key: &quot;simple&quot;\\n    value {\\n      s: &quot;LogicalRDD [key#291, value#292]&quot;\\n    }\\n  }\\n  attr {\\n    key: &quot;verbose&quot;\\n    value {\\n      s: &quot;LogicalRDD [key#291, value#292]&quot;\\n    }\\n  }\\n}\\nnode {\\n  name: &quot;p_count/count22/LogicalRDD_0&quot;\\n  op: &quot;LogicalRDD&quot;\\n  input: &quot;^p_count/structured_transform21/LogicalRDD_0&quot;\\n  attr {\\n    key: &quot;schema&quot;\\n    value {\\n      s: &quot;root\\\\n |-- key: struct (nullable = false)\\\\n |    |-- key_1: string (nullable = false)\\\\n |    |-- key_2: struct (nullable = false)\\\\n |    |    |-- company_name: string (nullable = false)\\\\n |    |    |-- employee_name: string (nullable = false)\\\\n |    |    |-- dob: string (nullable = false)\\\\n |-- value: long (nullable = false)\\\\n&quot;\\n    }\\n  }\\n  attr {\\n    key: &quot;simple&quot;\\n    value {\\n      s: &quot;LogicalRDD [key#314, value#315L]&quot;\\n    }\\n  }\\n  attr {\\n    key: &quot;verbose&quot;\\n    value {\\n      s: &quot;LogicalRDD [key#314, value#315L]&quot;\\n    }\\n  }\\n}\\nnode {\\n  name: &quot;p_count/agg_count/LogicalRDD_0&quot;\\n  op: &quot;LogicalRDD&quot;\\n  input: &quot;^p_count/count22/LogicalRDD_0&quot;\\n  attr {\\n    key: &quot;schema&quot;\\n    value {\\n      s: &quot;root\\\\n |-- key: struct (nullable = false)\\\\n |    |-- key_1: string (nullable = false)\\\\n |-- value: struct (nullable = false)\\\\n |    |-- key: struct (nullable = false)\\\\n |    |    |-- company_name: string (nullable = false)\\\\n |    |    |-- employee_name: string (nullable = false)\\\\n |    |    |-- dob: string (nullable = false)\\\\n |    |-- value: long (nullable = false)\\\\n&quot;\\n    }\\n  }\\n  attr {\\n    key: &quot;simple&quot;\\n    value {\\n      s: &quot;LogicalRDD [key#338, value#339]&quot;\\n    }\\n  }\\n  attr {\\n    key: &quot;verbose&quot;\\n    value {\\n      s: &quot;LogicalRDD [key#338, value#339]&quot;\\n    }\\n  }\\n}\\nnode {\\n  name: &quot;p_count/agg_post24/LogicalRDD_0&quot;\\n  op: &quot;LogicalRDD&quot;\\n  input: &quot;^p_count/agg_count/LogicalRDD_0&quot;\\n  attr {\\n    key: &quot;schema&quot;\\n    value {\\n      s: &quot;root\\\\n |-- key: struct (nullable = false)\\\\n |    |-- key_1: string (nullable = false)\\\\n |-- value: struct (nullable = false)\\\\n |    |-- key: struct (nullable = false)\\\\n |    |    |-- company_name: string (nullable = false)\\\\n |    |    |-- employee_name: string (nullable = false)\\\\n |    |    |-- dob: string (nullable = false)\\\\n |    |-- num_employees: long (nullable = false)\\\\n&quot;\\n    }\\n  }\\n  attr {\\n    key: &quot;simple&quot;\\n    value {\\n      s: &quot;LogicalRDD [key#360, value#361]&quot;\\n    }\\n  }\\n  attr {\\n    key: &quot;verbose&quot;\\n    value {\\n      s: &quot;LogicalRDD [key#360, value#361]&quot;\\n    }\\n  }\\n}\\nnode {\\n  name: &quot;p_count/filter_pre25/LogicalRDD_0&quot;\\n  op: &quot;LogicalRDD&quot;\\n  input: &quot;^p_count/agg_post24/LogicalRDD_0&quot;\\n  attr {\\n    key: &quot;schema&quot;\\n    value {\\n      s: &quot;root\\\\n |-- key: struct (nullable = false)\\\\n |    |-- key_1: string (nullable = false)\\\\n |-- value: struct (nullable = false)\\\\n |    |-- filter: boolean (nullable = false)\\\\n |    |-- value: long (nullable = false)\\\\n&quot;\\n    }\\n  }\\n  attr {\\n    key: &quot;simple&quot;\\n    value {\\n      s: &quot;LogicalRDD [key#385, value#386]&quot;\\n    }\\n  }\\n  attr {\\n    key: &quot;verbose&quot;\\n    value {\\n      s: &quot;LogicalRDD [key#385, value#386]&quot;\\n    }\\n  }\\n}\\nnode {\\n  name: &quot;p_count/filter26_kagg_filter/LogicalRDD_0&quot;\\n  op: &quot;LogicalRDD&quot;\\n  input: &quot;^p_count/filter_pre25/LogicalRDD_0&quot;\\n  attr {\\n    key: &quot;schema&quot;\\n    value {\\n      s: &quot;root\\\\n |-- filter: boolean (nullable = false)\\\\n |-- value: struct (nullable = false)\\\\n |    |-- key: struct (nullable = false)\\\\n |    |    |-- key_1: string (nullable = false)\\\\n |    |-- value: long (nullable = false)\\\\n&quot;\\n    }\\n  }\\n  attr {\\n    key: &quot;simple&quot;\\n    value {\\n      s: &quot;LogicalRDD [filter#407, value#408]&quot;\\n    }\\n  }\\n  attr {\\n    key: &quot;verbose&quot;\\n    value {\\n      s: &quot;LogicalRDD [filter#407, value#408]&quot;\\n    }\\n  }\\n}\\nnode {\\n  name: &quot;p_count/filter26/LogicalRDD_0&quot;\\n  op: &quot;LogicalRDD&quot;\\n  input: &quot;^p_count/filter26_kagg_filter/LogicalRDD_0&quot;\\n  attr {\\n    key: &quot;schema&quot;\\n    value {\\n      s: &quot;root\\\\n |-- key: struct (nullable = false)\\\\n |    |-- key_1: string (nullable = false)\\\\n |-- value: long (nullable = false)\\\\n&quot;\\n    }\\n  }\\n  attr {\\n    key: &quot;simple&quot;\\n    value {\\n      s: &quot;LogicalRDD [key#422, value#423L]&quot;\\n    }\\n  }\\n  attr {\\n    key: &quot;verbose&quot;\\n    value {\\n      s: &quot;LogicalRDD [key#422, value#423L]&quot;\\n    }\\n  }\\n}\\nnode {\\n  name: &quot;p_count/paradoxical_employees/LogicalRDD_0&quot;\\n  op: &quot;LogicalRDD&quot;\\n  input: &quot;^p_count/filter26/LogicalRDD_0&quot;\\n  attr {\\n    key: &quot;schema&quot;\\n    value {\\n      s: &quot;root\\\\n |-- key: struct (nullable = false)\\\\n |    |-- key_1: string (nullable = false)\\\\n |-- value: long (nullable = true)\\\\n&quot;\\n    }\\n  }\\n  attr {\\n    key: &quot;simple&quot;\\n    value {\\n      s: &quot;LogicalRDD [key#445, value#446L]&quot;\\n    }\\n  }\\n  attr {\\n    key: &quot;verbose&quot;\\n    value {\\n      s: &quot;LogicalRDD [key#445, value#446L]&quot;\\n    }\\n  }\\n}\\nnode {\\n  name: &quot;shuffle28/LogicalRDD_0&quot;\\n  op: &quot;LogicalRDD&quot;\\n  input: &quot;^p_count/paradoxical_employees/LogicalRDD_0&quot;\\n  attr {\\n    key: &quot;schema&quot;\\n    value {\\n      s: &quot;root\\\\n |-- key: string (nullable = false)\\\\n |-- value: long (nullable = true)\\\\n&quot;\\n    }\\n  }\\n  attr {\\n    key: &quot;simple&quot;\\n    value {\\n      s: &quot;LogicalRDD [key#463, value#464L]&quot;\\n    }\\n  }\\n  attr {\\n    key: &quot;verbose&quot;\\n    value {\\n      s: &quot;LogicalRDD [key#463, value#464L]&quot;\\n    }\\n  }\\n}\\nnode {\\n  name: &quot;agg_post29/LogicalRDD_0&quot;\\n  op: &quot;LogicalRDD&quot;\\n  input: &quot;^shuffle28/LogicalRDD_0&quot;\\n  attr {\\n    key: &quot;schema&quot;\\n    value {\\n      s: &quot;root\\\\n |-- company_name: string (nullable = false)\\\\n |-- paradoxical_employees: long (nullable = true)\\\\n&quot;\\n    }\\n  }\\n  attr {\\n    key: &quot;simple&quot;\\n    value {\\n      s: &quot;LogicalRDD [company_name#481, paradoxical_employees#482L]&quot;\\n    }\\n  }\\n  attr {\\n    key: &quot;verbose&quot;\\n    value {\\n      s: &quot;LogicalRDD [company_name#481, paradoxical_employees#482L]&quot;\\n    }\\n  }\\n}\\nnode {\\n  name: &quot;collect_list36/LogicalRDD_0&quot;\\n  op: &quot;LogicalRDD&quot;\\n  input: &quot;^agg_post29/LogicalRDD_0&quot;\\n  attr {\\n    key: &quot;schema&quot;\\n    value {\\n      s: &quot;root\\\\n |-- value: array (nullable = true)\\\\n |    |-- element: struct (containsNull = true)\\\\n |    |    |-- company_name: string (nullable = false)\\\\n |    |    |-- paradoxical_employees: long (nullable = true)\\\\n&quot;\\n    }\\n  }\\n  attr {\\n    key: &quot;simple&quot;\\n    value {\\n      s: &quot;LogicalRDD [value#502]&quot;\\n    }\\n  }\\n  attr {\\n    key: &quot;verbose&quot;\\n    value {\\n      s: &quot;LogicalRDD [value#502]&quot;\\n    }\\n  }\\n}\\n';\n",
       "          }\n",
       "        </script>\n",
       "        <link rel=&quot;import&quot; href=&quot;https://tensorboard.appspot.com/tf-graph-basic.build.html&quot; onload=load()>\n",
       "        <div style=&quot;height:600px&quot;>\n",
       "          <tf-graph-basic id=&quot;graph0.035144500973009585&quot;></tf-graph-basic>\n",
       "        </div>\n",
       "    \"></iframe>\n",
       "    "
      ],
      "text/plain": [
       "<IPython.core.display.HTML object>"
      ]
     },
     "metadata": {},
     "output_type": "display_data"
    }
   ],
   "source": [
    "show_phase(comp, \"parsed\")"
   ]
  },
  {
   "cell_type": "code",
   "execution_count": 17,
   "metadata": {
    "scrolled": true
   },
   "outputs": [
    {
     "data": {
      "text/html": [
       "\n",
       "        <iframe seamless style=\"width:1000px;height:620px;border:0\" srcdoc=\"\n",
       "        <script src=&quot;//cdnjs.cloudflare.com/ajax/libs/polymer/0.3.3/platform.js&quot;></script>\n",
       "        <script>\n",
       "          function load() {\n",
       "            document.getElementById(&quot;graph0.17331739853060824&quot;).pbtxt = 'node {\\n  name: &quot;employees/Scan_ExistingRDD_0&quot;\\n  op: &quot;Scan_ExistingRDD&quot;\\n  attr {\\n    key: &quot;schema&quot;\\n    value {\\n      s: &quot;root\\\\n |-- company_name: string (nullable = false)\\\\n |-- employee_name: string (nullable = false)\\\\n |-- dob: string (nullable = false)\\\\n&quot;\\n    }\\n  }\\n  attr {\\n    key: &quot;simple&quot;\\n    value {\\n      s: &quot;Scan ExistingRDD[company_name#189,employee_name#190,dob#191]&quot;\\n    }\\n  }\\n  attr {\\n    key: &quot;verbose&quot;\\n    value {\\n      s: &quot;Scan ExistingRDD[company_name#189,employee_name#190,dob#191]&quot;\\n    }\\n  }\\n}\\nnode {\\n  name: &quot;agg_pre27/Scan_ExistingRDD_0&quot;\\n  op: &quot;Scan_ExistingRDD&quot;\\n  input: &quot;^employees/Scan_ExistingRDD_0&quot;\\n  attr {\\n    key: &quot;schema&quot;\\n    value {\\n      s: &quot;root\\\\n |-- key: string (nullable = false)\\\\n |-- value: struct (nullable = false)\\\\n |    |-- company_name: string (nullable = false)\\\\n |    |-- employee_name: string (nullable = false)\\\\n |    |-- dob: string (nullable = false)\\\\n&quot;\\n    }\\n  }\\n  attr {\\n    key: &quot;simple&quot;\\n    value {\\n      s: &quot;Scan ExistingRDD[key#209,value#210]&quot;\\n    }\\n  }\\n  attr {\\n    key: &quot;verbose&quot;\\n    value {\\n      s: &quot;Scan ExistingRDD[key#209,value#210]&quot;\\n    }\\n  }\\n}\\nnode {\\n  name: &quot;placeholder19/Scan_ExistingRDD_0&quot;\\n  op: &quot;Scan_ExistingRDD&quot;\\n  input: &quot;^agg_pre27/Scan_ExistingRDD_0&quot;\\n  attr {\\n    key: &quot;schema&quot;\\n    value {\\n      s: &quot;root\\\\n |-- key: struct (nullable = false)\\\\n |    |-- key_1: string (nullable = false)\\\\n |-- value: struct (nullable = false)\\\\n |    |-- company_name: string (nullable = false)\\\\n |    |-- employee_name: string (nullable = false)\\\\n |    |-- dob: string (nullable = false)\\\\n&quot;\\n    }\\n  }\\n  attr {\\n    key: &quot;simple&quot;\\n    value {\\n      s: &quot;Scan ExistingRDD[key#229,value#230]&quot;\\n    }\\n  }\\n  attr {\\n    key: &quot;verbose&quot;\\n    value {\\n      s: &quot;Scan ExistingRDD[key#229,value#230]&quot;\\n    }\\n  }\\n}\\nnode {\\n  name: &quot;p_count/agg_pre23/Scan_ExistingRDD_0&quot;\\n  op: &quot;Scan_ExistingRDD&quot;\\n  input: &quot;^placeholder19/Scan_ExistingRDD_0&quot;\\n  attr {\\n    key: &quot;schema&quot;\\n    value {\\n      s: &quot;root\\\\n |-- key: struct (nullable = false)\\\\n |    |-- key_1: string (nullable = false)\\\\n |-- value: struct (nullable = false)\\\\n |    |-- key: struct (nullable = false)\\\\n |    |    |-- company_name: string (nullable = false)\\\\n |    |    |-- employee_name: string (nullable = false)\\\\n |    |    |-- dob: string (nullable = false)\\\\n |    |-- value: struct (nullable = false)\\\\n |    |    |-- company_name: string (nullable = false)\\\\n |    |    |-- employee_name: string (nullable = false)\\\\n |    |    |-- dob: string (nullable = false)\\\\n&quot;\\n    }\\n  }\\n  attr {\\n    key: &quot;simple&quot;\\n    value {\\n      s: &quot;Scan ExistingRDD[key#251,value#252]&quot;\\n    }\\n  }\\n  attr {\\n    key: &quot;verbose&quot;\\n    value {\\n      s: &quot;Scan ExistingRDD[key#251,value#252]&quot;\\n    }\\n  }\\n}\\nnode {\\n  name: &quot;p_count/placeholder20/Scan_ExistingRDD_0&quot;\\n  op: &quot;Scan_ExistingRDD&quot;\\n  input: &quot;^p_count/agg_pre23/Scan_ExistingRDD_0&quot;\\n  attr {\\n    key: &quot;schema&quot;\\n    value {\\n      s: &quot;root\\\\n |-- key: struct (nullable = false)\\\\n |    |-- key_1: string (nullable = false)\\\\n |    |-- key_2: struct (nullable = false)\\\\n |    |    |-- company_name: string (nullable = false)\\\\n |    |    |-- employee_name: string (nullable = false)\\\\n |    |    |-- dob: string (nullable = false)\\\\n |-- value: struct (nullable = false)\\\\n |    |-- company_name: string (nullable = false)\\\\n |    |-- employee_name: string (nullable = false)\\\\n |    |-- dob: string (nullable = false)\\\\n&quot;\\n    }\\n  }\\n  attr {\\n    key: &quot;simple&quot;\\n    value {\\n      s: &quot;Scan ExistingRDD[key#273,value#274]&quot;\\n    }\\n  }\\n  attr {\\n    key: &quot;verbose&quot;\\n    value {\\n      s: &quot;Scan ExistingRDD[key#273,value#274]&quot;\\n    }\\n  }\\n}\\nnode {\\n  name: &quot;p_count/structured_transform21/Scan_ExistingRDD_0&quot;\\n  op: &quot;Scan_ExistingRDD&quot;\\n  input: &quot;^p_count/placeholder20/Scan_ExistingRDD_0&quot;\\n  attr {\\n    key: &quot;schema&quot;\\n    value {\\n      s: &quot;root\\\\n |-- key: struct (nullable = false)\\\\n |    |-- key_1: string (nullable = false)\\\\n |    |-- key_2: struct (nullable = false)\\\\n |    |    |-- company_name: string (nullable = false)\\\\n |    |    |-- employee_name: string (nullable = false)\\\\n |    |    |-- dob: string (nullable = false)\\\\n |-- value: struct (nullable = false)\\\\n |    |-- company_name: string (nullable = false)\\\\n |    |-- employee_name: string (nullable = false)\\\\n |    |-- dob: string (nullable = false)\\\\n&quot;\\n    }\\n  }\\n  attr {\\n    key: &quot;simple&quot;\\n    value {\\n      s: &quot;Scan ExistingRDD[key#291,value#292]&quot;\\n    }\\n  }\\n  attr {\\n    key: &quot;verbose&quot;\\n    value {\\n      s: &quot;Scan ExistingRDD[key#291,value#292]&quot;\\n    }\\n  }\\n}\\nnode {\\n  name: &quot;p_count/count22/Scan_ExistingRDD_0&quot;\\n  op: &quot;Scan_ExistingRDD&quot;\\n  input: &quot;^p_count/structured_transform21/Scan_ExistingRDD_0&quot;\\n  attr {\\n    key: &quot;schema&quot;\\n    value {\\n      s: &quot;root\\\\n |-- key: struct (nullable = false)\\\\n |    |-- key_1: string (nullable = false)\\\\n |    |-- key_2: struct (nullable = false)\\\\n |    |    |-- company_name: string (nullable = false)\\\\n |    |    |-- employee_name: string (nullable = false)\\\\n |    |    |-- dob: string (nullable = false)\\\\n |-- value: long (nullable = false)\\\\n&quot;\\n    }\\n  }\\n  attr {\\n    key: &quot;simple&quot;\\n    value {\\n      s: &quot;Scan ExistingRDD[key#314,value#315L]&quot;\\n    }\\n  }\\n  attr {\\n    key: &quot;verbose&quot;\\n    value {\\n      s: &quot;Scan ExistingRDD[key#314,value#315L]&quot;\\n    }\\n  }\\n}\\nnode {\\n  name: &quot;p_count/agg_count/Scan_ExistingRDD_0&quot;\\n  op: &quot;Scan_ExistingRDD&quot;\\n  input: &quot;^p_count/count22/Scan_ExistingRDD_0&quot;\\n  attr {\\n    key: &quot;schema&quot;\\n    value {\\n      s: &quot;root\\\\n |-- key: struct (nullable = false)\\\\n |    |-- key_1: string (nullable = false)\\\\n |-- value: struct (nullable = false)\\\\n |    |-- key: struct (nullable = false)\\\\n |    |    |-- company_name: string (nullable = false)\\\\n |    |    |-- employee_name: string (nullable = false)\\\\n |    |    |-- dob: string (nullable = false)\\\\n |    |-- value: long (nullable = false)\\\\n&quot;\\n    }\\n  }\\n  attr {\\n    key: &quot;simple&quot;\\n    value {\\n      s: &quot;Scan ExistingRDD[key#338,value#339]&quot;\\n    }\\n  }\\n  attr {\\n    key: &quot;verbose&quot;\\n    value {\\n      s: &quot;Scan ExistingRDD[key#338,value#339]&quot;\\n    }\\n  }\\n}\\nnode {\\n  name: &quot;p_count/agg_post24/Scan_ExistingRDD_0&quot;\\n  op: &quot;Scan_ExistingRDD&quot;\\n  input: &quot;^p_count/agg_count/Scan_ExistingRDD_0&quot;\\n  attr {\\n    key: &quot;schema&quot;\\n    value {\\n      s: &quot;root\\\\n |-- key: struct (nullable = false)\\\\n |    |-- key_1: string (nullable = false)\\\\n |-- value: struct (nullable = false)\\\\n |    |-- key: struct (nullable = false)\\\\n |    |    |-- company_name: string (nullable = false)\\\\n |    |    |-- employee_name: string (nullable = false)\\\\n |    |    |-- dob: string (nullable = false)\\\\n |    |-- num_employees: long (nullable = false)\\\\n&quot;\\n    }\\n  }\\n  attr {\\n    key: &quot;simple&quot;\\n    value {\\n      s: &quot;Scan ExistingRDD[key#360,value#361]&quot;\\n    }\\n  }\\n  attr {\\n    key: &quot;verbose&quot;\\n    value {\\n      s: &quot;Scan ExistingRDD[key#360,value#361]&quot;\\n    }\\n  }\\n}\\nnode {\\n  name: &quot;p_count/filter_pre25/Scan_ExistingRDD_0&quot;\\n  op: &quot;Scan_ExistingRDD&quot;\\n  input: &quot;^p_count/agg_post24/Scan_ExistingRDD_0&quot;\\n  attr {\\n    key: &quot;schema&quot;\\n    value {\\n      s: &quot;root\\\\n |-- key: struct (nullable = false)\\\\n |    |-- key_1: string (nullable = false)\\\\n |-- value: struct (nullable = false)\\\\n |    |-- filter: boolean (nullable = false)\\\\n |    |-- value: long (nullable = false)\\\\n&quot;\\n    }\\n  }\\n  attr {\\n    key: &quot;simple&quot;\\n    value {\\n      s: &quot;Scan ExistingRDD[key#385,value#386]&quot;\\n    }\\n  }\\n  attr {\\n    key: &quot;verbose&quot;\\n    value {\\n      s: &quot;Scan ExistingRDD[key#385,value#386]&quot;\\n    }\\n  }\\n}\\nnode {\\n  name: &quot;p_count/filter26_kagg_filter/Scan_ExistingRDD_0&quot;\\n  op: &quot;Scan_ExistingRDD&quot;\\n  input: &quot;^p_count/filter_pre25/Scan_ExistingRDD_0&quot;\\n  attr {\\n    key: &quot;schema&quot;\\n    value {\\n      s: &quot;root\\\\n |-- filter: boolean (nullable = false)\\\\n |-- value: struct (nullable = false)\\\\n |    |-- key: struct (nullable = false)\\\\n |    |    |-- key_1: string (nullable = false)\\\\n |    |-- value: long (nullable = false)\\\\n&quot;\\n    }\\n  }\\n  attr {\\n    key: &quot;simple&quot;\\n    value {\\n      s: &quot;Scan ExistingRDD[filter#407,value#408]&quot;\\n    }\\n  }\\n  attr {\\n    key: &quot;verbose&quot;\\n    value {\\n      s: &quot;Scan ExistingRDD[filter#407,value#408]&quot;\\n    }\\n  }\\n}\\nnode {\\n  name: &quot;p_count/filter26/Scan_ExistingRDD_0&quot;\\n  op: &quot;Scan_ExistingRDD&quot;\\n  input: &quot;^p_count/filter26_kagg_filter/Scan_ExistingRDD_0&quot;\\n  attr {\\n    key: &quot;schema&quot;\\n    value {\\n      s: &quot;root\\\\n |-- key: struct (nullable = false)\\\\n |    |-- key_1: string (nullable = false)\\\\n |-- value: long (nullable = false)\\\\n&quot;\\n    }\\n  }\\n  attr {\\n    key: &quot;simple&quot;\\n    value {\\n      s: &quot;Scan ExistingRDD[key#422,value#423L]&quot;\\n    }\\n  }\\n  attr {\\n    key: &quot;verbose&quot;\\n    value {\\n      s: &quot;Scan ExistingRDD[key#422,value#423L]&quot;\\n    }\\n  }\\n}\\nnode {\\n  name: &quot;p_count/paradoxical_employees/Scan_ExistingRDD_0&quot;\\n  op: &quot;Scan_ExistingRDD&quot;\\n  input: &quot;^p_count/filter26/Scan_ExistingRDD_0&quot;\\n  attr {\\n    key: &quot;schema&quot;\\n    value {\\n      s: &quot;root\\\\n |-- key: struct (nullable = false)\\\\n |    |-- key_1: string (nullable = false)\\\\n |-- value: long (nullable = true)\\\\n&quot;\\n    }\\n  }\\n  attr {\\n    key: &quot;simple&quot;\\n    value {\\n      s: &quot;Scan ExistingRDD[key#445,value#446L]&quot;\\n    }\\n  }\\n  attr {\\n    key: &quot;verbose&quot;\\n    value {\\n      s: &quot;Scan ExistingRDD[key#445,value#446L]&quot;\\n    }\\n  }\\n}\\nnode {\\n  name: &quot;shuffle28/Scan_ExistingRDD_0&quot;\\n  op: &quot;Scan_ExistingRDD&quot;\\n  input: &quot;^p_count/paradoxical_employees/Scan_ExistingRDD_0&quot;\\n  attr {\\n    key: &quot;schema&quot;\\n    value {\\n      s: &quot;root\\\\n |-- key: string (nullable = false)\\\\n |-- value: long (nullable = true)\\\\n&quot;\\n    }\\n  }\\n  attr {\\n    key: &quot;simple&quot;\\n    value {\\n      s: &quot;Scan ExistingRDD[key#463,value#464L]&quot;\\n    }\\n  }\\n  attr {\\n    key: &quot;verbose&quot;\\n    value {\\n      s: &quot;Scan ExistingRDD[key#463,value#464L]&quot;\\n    }\\n  }\\n}\\nnode {\\n  name: &quot;agg_post29/Scan_ExistingRDD_0&quot;\\n  op: &quot;Scan_ExistingRDD&quot;\\n  input: &quot;^shuffle28/Scan_ExistingRDD_0&quot;\\n  attr {\\n    key: &quot;schema&quot;\\n    value {\\n      s: &quot;root\\\\n |-- company_name: string (nullable = false)\\\\n |-- paradoxical_employees: long (nullable = true)\\\\n&quot;\\n    }\\n  }\\n  attr {\\n    key: &quot;simple&quot;\\n    value {\\n      s: &quot;Scan ExistingRDD[company_name#481,paradoxical_employees#482L]&quot;\\n    }\\n  }\\n  attr {\\n    key: &quot;verbose&quot;\\n    value {\\n      s: &quot;Scan ExistingRDD[company_name#481,paradoxical_employees#482L]&quot;\\n    }\\n  }\\n}\\nnode {\\n  name: &quot;collect_list36/Scan_ExistingRDD_0&quot;\\n  op: &quot;Scan_ExistingRDD&quot;\\n  input: &quot;^agg_post29/Scan_ExistingRDD_0&quot;\\n  attr {\\n    key: &quot;schema&quot;\\n    value {\\n      s: &quot;root\\\\n |-- value: array (nullable = true)\\\\n |    |-- element: struct (containsNull = true)\\\\n |    |    |-- company_name: string (nullable = false)\\\\n |    |    |-- paradoxical_employees: long (nullable = true)\\\\n&quot;\\n    }\\n  }\\n  attr {\\n    key: &quot;simple&quot;\\n    value {\\n      s: &quot;Scan ExistingRDD[value#502]&quot;\\n    }\\n  }\\n  attr {\\n    key: &quot;verbose&quot;\\n    value {\\n      s: &quot;Scan ExistingRDD[value#502]&quot;\\n    }\\n  }\\n}\\n';\n",
       "          }\n",
       "        </script>\n",
       "        <link rel=&quot;import&quot; href=&quot;https://tensorboard.appspot.com/tf-graph-basic.build.html&quot; onload=load()>\n",
       "        <div style=&quot;height:600px&quot;>\n",
       "          <tf-graph-basic id=&quot;graph0.17331739853060824&quot;></tf-graph-basic>\n",
       "        </div>\n",
       "    \"></iframe>\n",
       "    "
      ],
      "text/plain": [
       "<IPython.core.display.HTML object>"
      ]
     },
     "metadata": {},
     "output_type": "display_data"
    }
   ],
   "source": [
    "show_phase(comp, \"physical\")"
   ]
  },
  {
   "cell_type": "code",
   "execution_count": 18,
   "metadata": {
    "scrolled": false
   },
   "outputs": [
    {
     "data": {
      "text/html": [
       "\n",
       "        <iframe seamless style=\"width:1000px;height:620px;border:0\" srcdoc=\"\n",
       "        <script src=&quot;//cdnjs.cloudflare.com/ajax/libs/polymer/0.3.3/platform.js&quot;></script>\n",
       "        <script>\n",
       "          function load() {\n",
       "            document.getElementById(&quot;graph0.5067767995188264&quot;).pbtxt = 'node {\\n  name: &quot;employees/ParallelCollectionRDD_66&quot;\\n  op: &quot;ParallelCollectionRDD&quot;\\n  attr {\\n    key: &quot;name&quot;\\n    value {\\n      s: &quot;ParallelCollectionRDD&quot;\\n    }\\n  }\\n}\\nnode {\\n  name: &quot;employees/MapPartitionsRDD_67&quot;\\n  op: &quot;MapPartitionsRDD&quot;\\n  input: &quot;employees/ParallelCollectionRDD_66&quot;\\n  attr {\\n    key: &quot;name&quot;\\n    value {\\n      s: &quot;MapPartitionsRDD&quot;\\n    }\\n  }\\n}\\nnode {\\n  name: &quot;employees/MapPartitionsRDD_68&quot;\\n  op: &quot;MapPartitionsRDD&quot;\\n  input: &quot;employees/MapPartitionsRDD_67&quot;\\n  attr {\\n    key: &quot;name&quot;\\n    value {\\n      s: &quot;MapPartitionsRDD&quot;\\n    }\\n  }\\n}\\nnode {\\n  name: &quot;employees/MapPartitionsRDD_69&quot;\\n  op: &quot;MapPartitionsRDD&quot;\\n  input: &quot;employees/MapPartitionsRDD_68&quot;\\n  attr {\\n    key: &quot;name&quot;\\n    value {\\n      s: &quot;MapPartitionsRDD&quot;\\n    }\\n  }\\n}\\nnode {\\n  name: &quot;employees/MapPartitionsRDD_70&quot;\\n  op: &quot;MapPartitionsRDD&quot;\\n  input: &quot;employees/MapPartitionsRDD_69&quot;\\n  attr {\\n    key: &quot;name&quot;\\n    value {\\n      s: &quot;MapPartitionsRDD&quot;\\n    }\\n  }\\n}\\nnode {\\n  name: &quot;employees/MapPartitionsRDD_71&quot;\\n  op: &quot;MapPartitionsRDD&quot;\\n  input: &quot;employees/MapPartitionsRDD_70&quot;\\n  attr {\\n    key: &quot;name&quot;\\n    value {\\n      s: &quot;MapPartitionsRDD&quot;\\n    }\\n  }\\n}\\nnode {\\n  name: &quot;agg_pre27/MapPartitionsRDD_72&quot;\\n  op: &quot;MapPartitionsRDD&quot;\\n  input: &quot;employees/MapPartitionsRDD_70&quot;\\n  input: &quot;^employees/MapPartitionsRDD_71&quot;\\n  attr {\\n    key: &quot;name&quot;\\n    value {\\n      s: &quot;MapPartitionsRDD&quot;\\n    }\\n  }\\n}\\nnode {\\n  name: &quot;agg_pre27/MapPartitionsRDD_73&quot;\\n  op: &quot;MapPartitionsRDD&quot;\\n  input: &quot;agg_pre27/MapPartitionsRDD_72&quot;\\n  attr {\\n    key: &quot;name&quot;\\n    value {\\n      s: &quot;MapPartitionsRDD&quot;\\n    }\\n  }\\n}\\nnode {\\n  name: &quot;agg_pre27/MapPartitionsRDD_74&quot;\\n  op: &quot;MapPartitionsRDD&quot;\\n  input: &quot;agg_pre27/MapPartitionsRDD_73&quot;\\n  attr {\\n    key: &quot;name&quot;\\n    value {\\n      s: &quot;MapPartitionsRDD&quot;\\n    }\\n  }\\n}\\nnode {\\n  name: &quot;agg_pre27/MapPartitionsRDD_75&quot;\\n  op: &quot;MapPartitionsRDD&quot;\\n  input: &quot;agg_pre27/MapPartitionsRDD_74&quot;\\n  attr {\\n    key: &quot;name&quot;\\n    value {\\n      s: &quot;MapPartitionsRDD&quot;\\n    }\\n  }\\n}\\nnode {\\n  name: &quot;agg_pre27/MapPartitionsRDD_76&quot;\\n  op: &quot;MapPartitionsRDD&quot;\\n  input: &quot;agg_pre27/MapPartitionsRDD_75&quot;\\n  attr {\\n    key: &quot;name&quot;\\n    value {\\n      s: &quot;MapPartitionsRDD&quot;\\n    }\\n  }\\n}\\nnode {\\n  name: &quot;agg_pre27/MapPartitionsRDD_77&quot;\\n  op: &quot;MapPartitionsRDD&quot;\\n  input: &quot;agg_pre27/MapPartitionsRDD_76&quot;\\n  attr {\\n    key: &quot;name&quot;\\n    value {\\n      s: &quot;MapPartitionsRDD&quot;\\n    }\\n  }\\n}\\nnode {\\n  name: &quot;placeholder19/MapPartitionsRDD_78&quot;\\n  op: &quot;MapPartitionsRDD&quot;\\n  input: &quot;agg_pre27/MapPartitionsRDD_76&quot;\\n  input: &quot;^agg_pre27/MapPartitionsRDD_77&quot;\\n  attr {\\n    key: &quot;name&quot;\\n    value {\\n      s: &quot;MapPartitionsRDD&quot;\\n    }\\n  }\\n}\\nnode {\\n  name: &quot;placeholder19/MapPartitionsRDD_79&quot;\\n  op: &quot;MapPartitionsRDD&quot;\\n  input: &quot;placeholder19/MapPartitionsRDD_78&quot;\\n  attr {\\n    key: &quot;name&quot;\\n    value {\\n      s: &quot;MapPartitionsRDD&quot;\\n    }\\n  }\\n}\\nnode {\\n  name: &quot;placeholder19/MapPartitionsRDD_80&quot;\\n  op: &quot;MapPartitionsRDD&quot;\\n  input: &quot;placeholder19/MapPartitionsRDD_79&quot;\\n  attr {\\n    key: &quot;name&quot;\\n    value {\\n      s: &quot;MapPartitionsRDD&quot;\\n    }\\n  }\\n}\\nnode {\\n  name: &quot;placeholder19/MapPartitionsRDD_81&quot;\\n  op: &quot;MapPartitionsRDD&quot;\\n  input: &quot;placeholder19/MapPartitionsRDD_80&quot;\\n  attr {\\n    key: &quot;name&quot;\\n    value {\\n      s: &quot;MapPartitionsRDD&quot;\\n    }\\n  }\\n}\\nnode {\\n  name: &quot;placeholder19/MapPartitionsRDD_82&quot;\\n  op: &quot;MapPartitionsRDD&quot;\\n  input: &quot;placeholder19/MapPartitionsRDD_81&quot;\\n  attr {\\n    key: &quot;name&quot;\\n    value {\\n      s: &quot;MapPartitionsRDD&quot;\\n    }\\n  }\\n}\\nnode {\\n  name: &quot;placeholder19/MapPartitionsRDD_83&quot;\\n  op: &quot;MapPartitionsRDD&quot;\\n  input: &quot;placeholder19/MapPartitionsRDD_82&quot;\\n  attr {\\n    key: &quot;name&quot;\\n    value {\\n      s: &quot;MapPartitionsRDD&quot;\\n    }\\n  }\\n}\\nnode {\\n  name: &quot;p_count/agg_pre23/MapPartitionsRDD_84&quot;\\n  op: &quot;MapPartitionsRDD&quot;\\n  input: &quot;placeholder19/MapPartitionsRDD_82&quot;\\n  input: &quot;^placeholder19/MapPartitionsRDD_83&quot;\\n  attr {\\n    key: &quot;name&quot;\\n    value {\\n      s: &quot;MapPartitionsRDD&quot;\\n    }\\n  }\\n}\\nnode {\\n  name: &quot;p_count/agg_pre23/MapPartitionsRDD_85&quot;\\n  op: &quot;MapPartitionsRDD&quot;\\n  input: &quot;p_count/agg_pre23/MapPartitionsRDD_84&quot;\\n  attr {\\n    key: &quot;name&quot;\\n    value {\\n      s: &quot;MapPartitionsRDD&quot;\\n    }\\n  }\\n}\\nnode {\\n  name: &quot;p_count/agg_pre23/MapPartitionsRDD_86&quot;\\n  op: &quot;MapPartitionsRDD&quot;\\n  input: &quot;p_count/agg_pre23/MapPartitionsRDD_85&quot;\\n  attr {\\n    key: &quot;name&quot;\\n    value {\\n      s: &quot;MapPartitionsRDD&quot;\\n    }\\n  }\\n}\\nnode {\\n  name: &quot;p_count/agg_pre23/MapPartitionsRDD_87&quot;\\n  op: &quot;MapPartitionsRDD&quot;\\n  input: &quot;p_count/agg_pre23/MapPartitionsRDD_86&quot;\\n  attr {\\n    key: &quot;name&quot;\\n    value {\\n      s: &quot;MapPartitionsRDD&quot;\\n    }\\n  }\\n}\\nnode {\\n  name: &quot;p_count/agg_pre23/MapPartitionsRDD_88&quot;\\n  op: &quot;MapPartitionsRDD&quot;\\n  input: &quot;p_count/agg_pre23/MapPartitionsRDD_87&quot;\\n  attr {\\n    key: &quot;name&quot;\\n    value {\\n      s: &quot;MapPartitionsRDD&quot;\\n    }\\n  }\\n}\\nnode {\\n  name: &quot;p_count/agg_pre23/MapPartitionsRDD_89&quot;\\n  op: &quot;MapPartitionsRDD&quot;\\n  input: &quot;p_count/agg_pre23/MapPartitionsRDD_88&quot;\\n  attr {\\n    key: &quot;name&quot;\\n    value {\\n      s: &quot;MapPartitionsRDD&quot;\\n    }\\n  }\\n}\\nnode {\\n  name: &quot;p_count/placeholder20/MapPartitionsRDD_90&quot;\\n  op: &quot;MapPartitionsRDD&quot;\\n  input: &quot;p_count/agg_pre23/MapPartitionsRDD_88&quot;\\n  input: &quot;^p_count/agg_pre23/MapPartitionsRDD_89&quot;\\n  attr {\\n    key: &quot;name&quot;\\n    value {\\n      s: &quot;MapPartitionsRDD&quot;\\n    }\\n  }\\n}\\nnode {\\n  name: &quot;p_count/placeholder20/MapPartitionsRDD_91&quot;\\n  op: &quot;MapPartitionsRDD&quot;\\n  input: &quot;p_count/placeholder20/MapPartitionsRDD_90&quot;\\n  attr {\\n    key: &quot;name&quot;\\n    value {\\n      s: &quot;MapPartitionsRDD&quot;\\n    }\\n  }\\n}\\nnode {\\n  name: &quot;p_count/placeholder20/MapPartitionsRDD_92&quot;\\n  op: &quot;MapPartitionsRDD&quot;\\n  input: &quot;p_count/placeholder20/MapPartitionsRDD_91&quot;\\n  attr {\\n    key: &quot;name&quot;\\n    value {\\n      s: &quot;MapPartitionsRDD&quot;\\n    }\\n  }\\n}\\nnode {\\n  name: &quot;p_count/placeholder20/MapPartitionsRDD_93&quot;\\n  op: &quot;MapPartitionsRDD&quot;\\n  input: &quot;p_count/placeholder20/MapPartitionsRDD_92&quot;\\n  attr {\\n    key: &quot;name&quot;\\n    value {\\n      s: &quot;MapPartitionsRDD&quot;\\n    }\\n  }\\n}\\nnode {\\n  name: &quot;p_count/placeholder20/MapPartitionsRDD_94&quot;\\n  op: &quot;MapPartitionsRDD&quot;\\n  input: &quot;p_count/placeholder20/MapPartitionsRDD_93&quot;\\n  attr {\\n    key: &quot;name&quot;\\n    value {\\n      s: &quot;MapPartitionsRDD&quot;\\n    }\\n  }\\n}\\nnode {\\n  name: &quot;p_count/placeholder20/MapPartitionsRDD_95&quot;\\n  op: &quot;MapPartitionsRDD&quot;\\n  input: &quot;p_count/placeholder20/MapPartitionsRDD_94&quot;\\n  attr {\\n    key: &quot;name&quot;\\n    value {\\n      s: &quot;MapPartitionsRDD&quot;\\n    }\\n  }\\n}\\nnode {\\n  name: &quot;p_count/structured_transform21/MapPartitionsRDD_96&quot;\\n  op: &quot;MapPartitionsRDD&quot;\\n  input: &quot;p_count/placeholder20/MapPartitionsRDD_94&quot;\\n  input: &quot;^p_count/placeholder20/MapPartitionsRDD_95&quot;\\n  attr {\\n    key: &quot;name&quot;\\n    value {\\n      s: &quot;MapPartitionsRDD&quot;\\n    }\\n  }\\n}\\nnode {\\n  name: &quot;p_count/structured_transform21/MapPartitionsRDD_97&quot;\\n  op: &quot;MapPartitionsRDD&quot;\\n  input: &quot;p_count/structured_transform21/MapPartitionsRDD_96&quot;\\n  attr {\\n    key: &quot;name&quot;\\n    value {\\n      s: &quot;MapPartitionsRDD&quot;\\n    }\\n  }\\n}\\nnode {\\n  name: &quot;p_count/structured_transform21/MapPartitionsRDD_98&quot;\\n  op: &quot;MapPartitionsRDD&quot;\\n  input: &quot;p_count/structured_transform21/MapPartitionsRDD_97&quot;\\n  attr {\\n    key: &quot;name&quot;\\n    value {\\n      s: &quot;MapPartitionsRDD&quot;\\n    }\\n  }\\n}\\nnode {\\n  name: &quot;p_count/structured_transform21/MapPartitionsRDD_99&quot;\\n  op: &quot;MapPartitionsRDD&quot;\\n  input: &quot;p_count/structured_transform21/MapPartitionsRDD_98&quot;\\n  attr {\\n    key: &quot;name&quot;\\n    value {\\n      s: &quot;MapPartitionsRDD&quot;\\n    }\\n  }\\n}\\nnode {\\n  name: &quot;p_count/structured_transform21/MapPartitionsRDD_100&quot;\\n  op: &quot;MapPartitionsRDD&quot;\\n  input: &quot;p_count/structured_transform21/MapPartitionsRDD_99&quot;\\n  attr {\\n    key: &quot;name&quot;\\n    value {\\n      s: &quot;MapPartitionsRDD&quot;\\n    }\\n  }\\n}\\nnode {\\n  name: &quot;p_count/structured_transform21/MapPartitionsRDD_101&quot;\\n  op: &quot;MapPartitionsRDD&quot;\\n  input: &quot;p_count/structured_transform21/MapPartitionsRDD_100&quot;\\n  attr {\\n    key: &quot;name&quot;\\n    value {\\n      s: &quot;MapPartitionsRDD&quot;\\n    }\\n  }\\n}\\nnode {\\n  name: &quot;p_count/count22/MapPartitionsRDD_102&quot;\\n  op: &quot;MapPartitionsRDD&quot;\\n  input: &quot;p_count/structured_transform21/MapPartitionsRDD_100&quot;\\n  input: &quot;^p_count/structured_transform21/MapPartitionsRDD_101&quot;\\n  attr {\\n    key: &quot;name&quot;\\n    value {\\n      s: &quot;MapPartitionsRDD&quot;\\n    }\\n  }\\n}\\nnode {\\n  name: &quot;p_count/count22/MapPartitionsRDD_103&quot;\\n  op: &quot;MapPartitionsRDD&quot;\\n  input: &quot;p_count/count22/MapPartitionsRDD_102&quot;\\n  attr {\\n    key: &quot;name&quot;\\n    value {\\n      s: &quot;MapPartitionsRDD&quot;\\n    }\\n  }\\n}\\nnode {\\n  name: &quot;p_count/count22/MapPartitionsRDD_104&quot;\\n  op: &quot;MapPartitionsRDD&quot;\\n  input: &quot;p_count/count22/MapPartitionsRDD_103&quot;\\n  attr {\\n    key: &quot;name&quot;\\n    value {\\n      s: &quot;MapPartitionsRDD&quot;\\n    }\\n  }\\n}\\nnode {\\n  name: &quot;p_count/count22/ShuffledRowRDD_105&quot;\\n  op: &quot;ShuffledRowRDD&quot;\\n  input: &quot;p_count/count22/MapPartitionsRDD_104&quot;\\n  attr {\\n    key: &quot;name&quot;\\n    value {\\n      s: &quot;ShuffledRowRDD&quot;\\n    }\\n  }\\n}\\nnode {\\n  name: &quot;p_count/count22/MapPartitionsRDD_106&quot;\\n  op: &quot;MapPartitionsRDD&quot;\\n  input: &quot;p_count/count22/ShuffledRowRDD_105&quot;\\n  attr {\\n    key: &quot;name&quot;\\n    value {\\n      s: &quot;MapPartitionsRDD&quot;\\n    }\\n  }\\n}\\nnode {\\n  name: &quot;p_count/count22/MapPartitionsRDD_107&quot;\\n  op: &quot;MapPartitionsRDD&quot;\\n  input: &quot;p_count/count22/MapPartitionsRDD_106&quot;\\n  attr {\\n    key: &quot;name&quot;\\n    value {\\n      s: &quot;MapPartitionsRDD&quot;\\n    }\\n  }\\n}\\nnode {\\n  name: &quot;p_count/count22/MapPartitionsRDD_108&quot;\\n  op: &quot;MapPartitionsRDD&quot;\\n  input: &quot;p_count/count22/MapPartitionsRDD_107&quot;\\n  attr {\\n    key: &quot;name&quot;\\n    value {\\n      s: &quot;MapPartitionsRDD&quot;\\n    }\\n  }\\n}\\nnode {\\n  name: &quot;p_count/count22/MapPartitionsRDD_109&quot;\\n  op: &quot;MapPartitionsRDD&quot;\\n  input: &quot;p_count/count22/MapPartitionsRDD_108&quot;\\n  attr {\\n    key: &quot;name&quot;\\n    value {\\n      s: &quot;MapPartitionsRDD&quot;\\n    }\\n  }\\n}\\nnode {\\n  name: &quot;p_count/count22/MapPartitionsRDD_110&quot;\\n  op: &quot;MapPartitionsRDD&quot;\\n  input: &quot;p_count/count22/MapPartitionsRDD_109&quot;\\n  attr {\\n    key: &quot;name&quot;\\n    value {\\n      s: &quot;MapPartitionsRDD&quot;\\n    }\\n  }\\n}\\nnode {\\n  name: &quot;p_count/agg_count/MapPartitionsRDD_111&quot;\\n  op: &quot;MapPartitionsRDD&quot;\\n  input: &quot;p_count/count22/MapPartitionsRDD_109&quot;\\n  input: &quot;^p_count/count22/MapPartitionsRDD_110&quot;\\n  attr {\\n    key: &quot;name&quot;\\n    value {\\n      s: &quot;MapPartitionsRDD&quot;\\n    }\\n  }\\n}\\nnode {\\n  name: &quot;p_count/agg_count/MapPartitionsRDD_112&quot;\\n  op: &quot;MapPartitionsRDD&quot;\\n  input: &quot;p_count/agg_count/MapPartitionsRDD_111&quot;\\n  attr {\\n    key: &quot;name&quot;\\n    value {\\n      s: &quot;MapPartitionsRDD&quot;\\n    }\\n  }\\n}\\nnode {\\n  name: &quot;p_count/agg_count/MapPartitionsRDD_113&quot;\\n  op: &quot;MapPartitionsRDD&quot;\\n  input: &quot;p_count/agg_count/MapPartitionsRDD_112&quot;\\n  attr {\\n    key: &quot;name&quot;\\n    value {\\n      s: &quot;MapPartitionsRDD&quot;\\n    }\\n  }\\n}\\nnode {\\n  name: &quot;p_count/agg_count/MapPartitionsRDD_114&quot;\\n  op: &quot;MapPartitionsRDD&quot;\\n  input: &quot;p_count/agg_count/MapPartitionsRDD_113&quot;\\n  attr {\\n    key: &quot;name&quot;\\n    value {\\n      s: &quot;MapPartitionsRDD&quot;\\n    }\\n  }\\n}\\nnode {\\n  name: &quot;p_count/agg_count/MapPartitionsRDD_115&quot;\\n  op: &quot;MapPartitionsRDD&quot;\\n  input: &quot;p_count/agg_count/MapPartitionsRDD_114&quot;\\n  attr {\\n    key: &quot;name&quot;\\n    value {\\n      s: &quot;MapPartitionsRDD&quot;\\n    }\\n  }\\n}\\nnode {\\n  name: &quot;p_count/agg_count/MapPartitionsRDD_116&quot;\\n  op: &quot;MapPartitionsRDD&quot;\\n  input: &quot;p_count/agg_count/MapPartitionsRDD_115&quot;\\n  attr {\\n    key: &quot;name&quot;\\n    value {\\n      s: &quot;MapPartitionsRDD&quot;\\n    }\\n  }\\n}\\nnode {\\n  name: &quot;p_count/agg_post24/MapPartitionsRDD_117&quot;\\n  op: &quot;MapPartitionsRDD&quot;\\n  input: &quot;p_count/agg_count/MapPartitionsRDD_115&quot;\\n  input: &quot;^p_count/agg_count/MapPartitionsRDD_116&quot;\\n  attr {\\n    key: &quot;name&quot;\\n    value {\\n      s: &quot;MapPartitionsRDD&quot;\\n    }\\n  }\\n}\\nnode {\\n  name: &quot;p_count/agg_post24/MapPartitionsRDD_118&quot;\\n  op: &quot;MapPartitionsRDD&quot;\\n  input: &quot;p_count/agg_post24/MapPartitionsRDD_117&quot;\\n  attr {\\n    key: &quot;name&quot;\\n    value {\\n      s: &quot;MapPartitionsRDD&quot;\\n    }\\n  }\\n}\\nnode {\\n  name: &quot;p_count/agg_post24/MapPartitionsRDD_119&quot;\\n  op: &quot;MapPartitionsRDD&quot;\\n  input: &quot;p_count/agg_post24/MapPartitionsRDD_118&quot;\\n  attr {\\n    key: &quot;name&quot;\\n    value {\\n      s: &quot;MapPartitionsRDD&quot;\\n    }\\n  }\\n}\\nnode {\\n  name: &quot;p_count/agg_post24/MapPartitionsRDD_120&quot;\\n  op: &quot;MapPartitionsRDD&quot;\\n  input: &quot;p_count/agg_post24/MapPartitionsRDD_119&quot;\\n  attr {\\n    key: &quot;name&quot;\\n    value {\\n      s: &quot;MapPartitionsRDD&quot;\\n    }\\n  }\\n}\\nnode {\\n  name: &quot;p_count/agg_post24/MapPartitionsRDD_121&quot;\\n  op: &quot;MapPartitionsRDD&quot;\\n  input: &quot;p_count/agg_post24/MapPartitionsRDD_120&quot;\\n  attr {\\n    key: &quot;name&quot;\\n    value {\\n      s: &quot;MapPartitionsRDD&quot;\\n    }\\n  }\\n}\\nnode {\\n  name: &quot;p_count/agg_post24/MapPartitionsRDD_122&quot;\\n  op: &quot;MapPartitionsRDD&quot;\\n  input: &quot;p_count/agg_post24/MapPartitionsRDD_121&quot;\\n  attr {\\n    key: &quot;name&quot;\\n    value {\\n      s: &quot;MapPartitionsRDD&quot;\\n    }\\n  }\\n}\\nnode {\\n  name: &quot;p_count/filter_pre25/MapPartitionsRDD_123&quot;\\n  op: &quot;MapPartitionsRDD&quot;\\n  input: &quot;p_count/agg_post24/MapPartitionsRDD_121&quot;\\n  input: &quot;^p_count/agg_post24/MapPartitionsRDD_122&quot;\\n  attr {\\n    key: &quot;name&quot;\\n    value {\\n      s: &quot;MapPartitionsRDD&quot;\\n    }\\n  }\\n}\\nnode {\\n  name: &quot;p_count/filter_pre25/MapPartitionsRDD_124&quot;\\n  op: &quot;MapPartitionsRDD&quot;\\n  input: &quot;p_count/filter_pre25/MapPartitionsRDD_123&quot;\\n  attr {\\n    key: &quot;name&quot;\\n    value {\\n      s: &quot;MapPartitionsRDD&quot;\\n    }\\n  }\\n}\\nnode {\\n  name: &quot;p_count/filter_pre25/MapPartitionsRDD_125&quot;\\n  op: &quot;MapPartitionsRDD&quot;\\n  input: &quot;p_count/filter_pre25/MapPartitionsRDD_124&quot;\\n  attr {\\n    key: &quot;name&quot;\\n    value {\\n      s: &quot;MapPartitionsRDD&quot;\\n    }\\n  }\\n}\\nnode {\\n  name: &quot;p_count/filter_pre25/MapPartitionsRDD_126&quot;\\n  op: &quot;MapPartitionsRDD&quot;\\n  input: &quot;p_count/filter_pre25/MapPartitionsRDD_125&quot;\\n  attr {\\n    key: &quot;name&quot;\\n    value {\\n      s: &quot;MapPartitionsRDD&quot;\\n    }\\n  }\\n}\\nnode {\\n  name: &quot;p_count/filter_pre25/MapPartitionsRDD_127&quot;\\n  op: &quot;MapPartitionsRDD&quot;\\n  input: &quot;p_count/filter_pre25/MapPartitionsRDD_126&quot;\\n  attr {\\n    key: &quot;name&quot;\\n    value {\\n      s: &quot;MapPartitionsRDD&quot;\\n    }\\n  }\\n}\\nnode {\\n  name: &quot;p_count/filter_pre25/MapPartitionsRDD_128&quot;\\n  op: &quot;MapPartitionsRDD&quot;\\n  input: &quot;p_count/filter_pre25/MapPartitionsRDD_127&quot;\\n  attr {\\n    key: &quot;name&quot;\\n    value {\\n      s: &quot;MapPartitionsRDD&quot;\\n    }\\n  }\\n}\\nnode {\\n  name: &quot;p_count/filter26_kagg_filter/MapPartitionsRDD_129&quot;\\n  op: &quot;MapPartitionsRDD&quot;\\n  input: &quot;p_count/filter_pre25/MapPartitionsRDD_127&quot;\\n  input: &quot;^p_count/filter_pre25/MapPartitionsRDD_128&quot;\\n  attr {\\n    key: &quot;name&quot;\\n    value {\\n      s: &quot;MapPartitionsRDD&quot;\\n    }\\n  }\\n}\\nnode {\\n  name: &quot;p_count/filter26_kagg_filter/MapPartitionsRDD_130&quot;\\n  op: &quot;MapPartitionsRDD&quot;\\n  input: &quot;p_count/filter26_kagg_filter/MapPartitionsRDD_129&quot;\\n  attr {\\n    key: &quot;name&quot;\\n    value {\\n      s: &quot;MapPartitionsRDD&quot;\\n    }\\n  }\\n}\\nnode {\\n  name: &quot;p_count/filter26_kagg_filter/MapPartitionsRDD_131&quot;\\n  op: &quot;MapPartitionsRDD&quot;\\n  input: &quot;p_count/filter26_kagg_filter/MapPartitionsRDD_130&quot;\\n  attr {\\n    key: &quot;name&quot;\\n    value {\\n      s: &quot;MapPartitionsRDD&quot;\\n    }\\n  }\\n}\\nnode {\\n  name: &quot;p_count/filter26_kagg_filter/MapPartitionsRDD_132&quot;\\n  op: &quot;MapPartitionsRDD&quot;\\n  input: &quot;p_count/filter26_kagg_filter/MapPartitionsRDD_131&quot;\\n  attr {\\n    key: &quot;name&quot;\\n    value {\\n      s: &quot;MapPartitionsRDD&quot;\\n    }\\n  }\\n}\\nnode {\\n  name: &quot;p_count/filter26_kagg_filter/MapPartitionsRDD_133&quot;\\n  op: &quot;MapPartitionsRDD&quot;\\n  input: &quot;p_count/filter26_kagg_filter/MapPartitionsRDD_132&quot;\\n  attr {\\n    key: &quot;name&quot;\\n    value {\\n      s: &quot;MapPartitionsRDD&quot;\\n    }\\n  }\\n}\\nnode {\\n  name: &quot;p_count/filter26_kagg_filter/MapPartitionsRDD_134&quot;\\n  op: &quot;MapPartitionsRDD&quot;\\n  input: &quot;p_count/filter26_kagg_filter/MapPartitionsRDD_133&quot;\\n  attr {\\n    key: &quot;name&quot;\\n    value {\\n      s: &quot;MapPartitionsRDD&quot;\\n    }\\n  }\\n}\\nnode {\\n  name: &quot;p_count/filter26/MapPartitionsRDD_135&quot;\\n  op: &quot;MapPartitionsRDD&quot;\\n  input: &quot;p_count/filter26_kagg_filter/MapPartitionsRDD_133&quot;\\n  input: &quot;^p_count/filter26_kagg_filter/MapPartitionsRDD_134&quot;\\n  attr {\\n    key: &quot;name&quot;\\n    value {\\n      s: &quot;MapPartitionsRDD&quot;\\n    }\\n  }\\n}\\nnode {\\n  name: &quot;p_count/filter26/MapPartitionsRDD_136&quot;\\n  op: &quot;MapPartitionsRDD&quot;\\n  input: &quot;p_count/filter26/MapPartitionsRDD_135&quot;\\n  attr {\\n    key: &quot;name&quot;\\n    value {\\n      s: &quot;MapPartitionsRDD&quot;\\n    }\\n  }\\n}\\nnode {\\n  name: &quot;p_count/filter26/MapPartitionsRDD_137&quot;\\n  op: &quot;MapPartitionsRDD&quot;\\n  input: &quot;p_count/filter26/MapPartitionsRDD_136&quot;\\n  attr {\\n    key: &quot;name&quot;\\n    value {\\n      s: &quot;MapPartitionsRDD&quot;\\n    }\\n  }\\n}\\nnode {\\n  name: &quot;p_count/filter26/MapPartitionsRDD_138&quot;\\n  op: &quot;MapPartitionsRDD&quot;\\n  input: &quot;p_count/filter26/MapPartitionsRDD_137&quot;\\n  attr {\\n    key: &quot;name&quot;\\n    value {\\n      s: &quot;MapPartitionsRDD&quot;\\n    }\\n  }\\n}\\nnode {\\n  name: &quot;p_count/filter26/MapPartitionsRDD_139&quot;\\n  op: &quot;MapPartitionsRDD&quot;\\n  input: &quot;p_count/filter26/MapPartitionsRDD_138&quot;\\n  attr {\\n    key: &quot;name&quot;\\n    value {\\n      s: &quot;MapPartitionsRDD&quot;\\n    }\\n  }\\n}\\nnode {\\n  name: &quot;p_count/filter26/MapPartitionsRDD_140&quot;\\n  op: &quot;MapPartitionsRDD&quot;\\n  input: &quot;p_count/filter26/MapPartitionsRDD_139&quot;\\n  attr {\\n    key: &quot;name&quot;\\n    value {\\n      s: &quot;MapPartitionsRDD&quot;\\n    }\\n  }\\n}\\nnode {\\n  name: &quot;p_count/paradoxical_employees/MapPartitionsRDD_141&quot;\\n  op: &quot;MapPartitionsRDD&quot;\\n  input: &quot;p_count/filter26/MapPartitionsRDD_139&quot;\\n  input: &quot;^p_count/filter26/MapPartitionsRDD_140&quot;\\n  attr {\\n    key: &quot;name&quot;\\n    value {\\n      s: &quot;MapPartitionsRDD&quot;\\n    }\\n  }\\n}\\nnode {\\n  name: &quot;p_count/paradoxical_employees/MapPartitionsRDD_142&quot;\\n  op: &quot;MapPartitionsRDD&quot;\\n  input: &quot;p_count/paradoxical_employees/MapPartitionsRDD_141&quot;\\n  attr {\\n    key: &quot;name&quot;\\n    value {\\n      s: &quot;MapPartitionsRDD&quot;\\n    }\\n  }\\n}\\nnode {\\n  name: &quot;p_count/paradoxical_employees/MapPartitionsRDD_143&quot;\\n  op: &quot;MapPartitionsRDD&quot;\\n  input: &quot;p_count/paradoxical_employees/MapPartitionsRDD_142&quot;\\n  attr {\\n    key: &quot;name&quot;\\n    value {\\n      s: &quot;MapPartitionsRDD&quot;\\n    }\\n  }\\n}\\nnode {\\n  name: &quot;p_count/paradoxical_employees/ShuffledRowRDD_144&quot;\\n  op: &quot;ShuffledRowRDD&quot;\\n  input: &quot;p_count/paradoxical_employees/MapPartitionsRDD_143&quot;\\n  attr {\\n    key: &quot;name&quot;\\n    value {\\n      s: &quot;ShuffledRowRDD&quot;\\n    }\\n  }\\n}\\nnode {\\n  name: &quot;p_count/paradoxical_employees/MapPartitionsRDD_145&quot;\\n  op: &quot;MapPartitionsRDD&quot;\\n  input: &quot;p_count/paradoxical_employees/ShuffledRowRDD_144&quot;\\n  attr {\\n    key: &quot;name&quot;\\n    value {\\n      s: &quot;MapPartitionsRDD&quot;\\n    }\\n  }\\n}\\nnode {\\n  name: &quot;p_count/paradoxical_employees/MapPartitionsRDD_146&quot;\\n  op: &quot;MapPartitionsRDD&quot;\\n  input: &quot;p_count/paradoxical_employees/MapPartitionsRDD_145&quot;\\n  attr {\\n    key: &quot;name&quot;\\n    value {\\n      s: &quot;MapPartitionsRDD&quot;\\n    }\\n  }\\n}\\nnode {\\n  name: &quot;p_count/paradoxical_employees/MapPartitionsRDD_147&quot;\\n  op: &quot;MapPartitionsRDD&quot;\\n  input: &quot;p_count/paradoxical_employees/MapPartitionsRDD_146&quot;\\n  attr {\\n    key: &quot;name&quot;\\n    value {\\n      s: &quot;MapPartitionsRDD&quot;\\n    }\\n  }\\n}\\nnode {\\n  name: &quot;p_count/paradoxical_employees/MapPartitionsRDD_148&quot;\\n  op: &quot;MapPartitionsRDD&quot;\\n  input: &quot;p_count/paradoxical_employees/MapPartitionsRDD_147&quot;\\n  attr {\\n    key: &quot;name&quot;\\n    value {\\n      s: &quot;MapPartitionsRDD&quot;\\n    }\\n  }\\n}\\nnode {\\n  name: &quot;p_count/paradoxical_employees/MapPartitionsRDD_149&quot;\\n  op: &quot;MapPartitionsRDD&quot;\\n  input: &quot;p_count/paradoxical_employees/MapPartitionsRDD_148&quot;\\n  attr {\\n    key: &quot;name&quot;\\n    value {\\n      s: &quot;MapPartitionsRDD&quot;\\n    }\\n  }\\n}\\nnode {\\n  name: &quot;shuffle28/MapPartitionsRDD_150&quot;\\n  op: &quot;MapPartitionsRDD&quot;\\n  input: &quot;p_count/paradoxical_employees/MapPartitionsRDD_148&quot;\\n  input: &quot;^p_count/paradoxical_employees/MapPartitionsRDD_149&quot;\\n  attr {\\n    key: &quot;name&quot;\\n    value {\\n      s: &quot;MapPartitionsRDD&quot;\\n    }\\n  }\\n}\\nnode {\\n  name: &quot;shuffle28/MapPartitionsRDD_151&quot;\\n  op: &quot;MapPartitionsRDD&quot;\\n  input: &quot;shuffle28/MapPartitionsRDD_150&quot;\\n  attr {\\n    key: &quot;name&quot;\\n    value {\\n      s: &quot;MapPartitionsRDD&quot;\\n    }\\n  }\\n}\\nnode {\\n  name: &quot;shuffle28/MapPartitionsRDD_152&quot;\\n  op: &quot;MapPartitionsRDD&quot;\\n  input: &quot;shuffle28/MapPartitionsRDD_151&quot;\\n  attr {\\n    key: &quot;name&quot;\\n    value {\\n      s: &quot;MapPartitionsRDD&quot;\\n    }\\n  }\\n}\\nnode {\\n  name: &quot;shuffle28/MapPartitionsRDD_153&quot;\\n  op: &quot;MapPartitionsRDD&quot;\\n  input: &quot;shuffle28/MapPartitionsRDD_152&quot;\\n  attr {\\n    key: &quot;name&quot;\\n    value {\\n      s: &quot;MapPartitionsRDD&quot;\\n    }\\n  }\\n}\\nnode {\\n  name: &quot;shuffle28/MapPartitionsRDD_154&quot;\\n  op: &quot;MapPartitionsRDD&quot;\\n  input: &quot;shuffle28/MapPartitionsRDD_153&quot;\\n  attr {\\n    key: &quot;name&quot;\\n    value {\\n      s: &quot;MapPartitionsRDD&quot;\\n    }\\n  }\\n}\\nnode {\\n  name: &quot;shuffle28/MapPartitionsRDD_155&quot;\\n  op: &quot;MapPartitionsRDD&quot;\\n  input: &quot;shuffle28/MapPartitionsRDD_154&quot;\\n  attr {\\n    key: &quot;name&quot;\\n    value {\\n      s: &quot;MapPartitionsRDD&quot;\\n    }\\n  }\\n}\\nnode {\\n  name: &quot;agg_post29/MapPartitionsRDD_156&quot;\\n  op: &quot;MapPartitionsRDD&quot;\\n  input: &quot;shuffle28/MapPartitionsRDD_154&quot;\\n  input: &quot;^shuffle28/MapPartitionsRDD_155&quot;\\n  attr {\\n    key: &quot;name&quot;\\n    value {\\n      s: &quot;MapPartitionsRDD&quot;\\n    }\\n  }\\n}\\nnode {\\n  name: &quot;agg_post29/MapPartitionsRDD_157&quot;\\n  op: &quot;MapPartitionsRDD&quot;\\n  input: &quot;agg_post29/MapPartitionsRDD_156&quot;\\n  attr {\\n    key: &quot;name&quot;\\n    value {\\n      s: &quot;MapPartitionsRDD&quot;\\n    }\\n  }\\n}\\nnode {\\n  name: &quot;agg_post29/MapPartitionsRDD_158&quot;\\n  op: &quot;MapPartitionsRDD&quot;\\n  input: &quot;agg_post29/MapPartitionsRDD_157&quot;\\n  attr {\\n    key: &quot;name&quot;\\n    value {\\n      s: &quot;MapPartitionsRDD&quot;\\n    }\\n  }\\n}\\nnode {\\n  name: &quot;agg_post29/MapPartitionsRDD_159&quot;\\n  op: &quot;MapPartitionsRDD&quot;\\n  input: &quot;agg_post29/MapPartitionsRDD_158&quot;\\n  attr {\\n    key: &quot;name&quot;\\n    value {\\n      s: &quot;MapPartitionsRDD&quot;\\n    }\\n  }\\n}\\nnode {\\n  name: &quot;agg_post29/MapPartitionsRDD_160&quot;\\n  op: &quot;MapPartitionsRDD&quot;\\n  input: &quot;agg_post29/MapPartitionsRDD_159&quot;\\n  attr {\\n    key: &quot;name&quot;\\n    value {\\n      s: &quot;MapPartitionsRDD&quot;\\n    }\\n  }\\n}\\nnode {\\n  name: &quot;agg_post29/MapPartitionsRDD_161&quot;\\n  op: &quot;MapPartitionsRDD&quot;\\n  input: &quot;agg_post29/MapPartitionsRDD_160&quot;\\n  attr {\\n    key: &quot;name&quot;\\n    value {\\n      s: &quot;MapPartitionsRDD&quot;\\n    }\\n  }\\n}\\nnode {\\n  name: &quot;collect_list36/MapPartitionsRDD_162&quot;\\n  op: &quot;MapPartitionsRDD&quot;\\n  input: &quot;agg_post29/MapPartitionsRDD_160&quot;\\n  input: &quot;^agg_post29/MapPartitionsRDD_161&quot;\\n  attr {\\n    key: &quot;name&quot;\\n    value {\\n      s: &quot;MapPartitionsRDD&quot;\\n    }\\n  }\\n}\\nnode {\\n  name: &quot;collect_list36/MapPartitionsRDD_163&quot;\\n  op: &quot;MapPartitionsRDD&quot;\\n  input: &quot;collect_list36/MapPartitionsRDD_162&quot;\\n  attr {\\n    key: &quot;name&quot;\\n    value {\\n      s: &quot;MapPartitionsRDD&quot;\\n    }\\n  }\\n}\\nnode {\\n  name: &quot;collect_list36/ShuffledRowRDD_164&quot;\\n  op: &quot;ShuffledRowRDD&quot;\\n  input: &quot;collect_list36/MapPartitionsRDD_163&quot;\\n  attr {\\n    key: &quot;name&quot;\\n    value {\\n      s: &quot;ShuffledRowRDD&quot;\\n    }\\n  }\\n}\\nnode {\\n  name: &quot;collect_list36/MapPartitionsRDD_165&quot;\\n  op: &quot;MapPartitionsRDD&quot;\\n  input: &quot;collect_list36/ShuffledRowRDD_164&quot;\\n  attr {\\n    key: &quot;name&quot;\\n    value {\\n      s: &quot;MapPartitionsRDD&quot;\\n    }\\n  }\\n}\\nnode {\\n  name: &quot;collect_list36/MapPartitionsRDD_166&quot;\\n  op: &quot;MapPartitionsRDD&quot;\\n  input: &quot;collect_list36/MapPartitionsRDD_165&quot;\\n  attr {\\n    key: &quot;name&quot;\\n    value {\\n      s: &quot;MapPartitionsRDD&quot;\\n    }\\n  }\\n}\\nnode {\\n  name: &quot;collect_list36/MapPartitionsRDD_167&quot;\\n  op: &quot;MapPartitionsRDD&quot;\\n  input: &quot;collect_list36/MapPartitionsRDD_166&quot;\\n  attr {\\n    key: &quot;name&quot;\\n    value {\\n      s: &quot;MapPartitionsRDD&quot;\\n    }\\n  }\\n}\\nnode {\\n  name: &quot;collect_list36/MapPartitionsRDD_168&quot;\\n  op: &quot;MapPartitionsRDD&quot;\\n  input: &quot;collect_list36/MapPartitionsRDD_167&quot;\\n  attr {\\n    key: &quot;name&quot;\\n    value {\\n      s: &quot;MapPartitionsRDD&quot;\\n    }\\n  }\\n}\\nnode {\\n  name: &quot;collect_list36/MapPartitionsRDD_169&quot;\\n  op: &quot;MapPartitionsRDD&quot;\\n  input: &quot;collect_list36/MapPartitionsRDD_168&quot;\\n  attr {\\n    key: &quot;name&quot;\\n    value {\\n      s: &quot;MapPartitionsRDD&quot;\\n    }\\n  }\\n}\\nnode {\\n  name: &quot;collect_list36/MapPartitionsRDD_170&quot;\\n  op: &quot;MapPartitionsRDD&quot;\\n  input: &quot;collect_list36/MapPartitionsRDD_169&quot;\\n  attr {\\n    key: &quot;name&quot;\\n    value {\\n      s: &quot;MapPartitionsRDD&quot;\\n    }\\n  }\\n}\\n';\n",
       "          }\n",
       "        </script>\n",
       "        <link rel=&quot;import&quot; href=&quot;https://tensorboard.appspot.com/tf-graph-basic.build.html&quot; onload=load()>\n",
       "        <div style=&quot;height:600px&quot;>\n",
       "          <tf-graph-basic id=&quot;graph0.5067767995188264&quot;></tf-graph-basic>\n",
       "        </div>\n",
       "    \"></iframe>\n",
       "    "
      ],
      "text/plain": [
       "<IPython.core.display.HTML object>"
      ]
     },
     "metadata": {},
     "output_type": "display_data"
    }
   ],
   "source": [
    "show_phase(comp, \"rdd\")"
   ]
  },
  {
   "cell_type": "code",
   "execution_count": null,
   "metadata": {
    "collapsed": true,
    "scrolled": true
   },
   "outputs": [],
   "source": []
  },
  {
   "cell_type": "code",
   "execution_count": null,
   "metadata": {
    "collapsed": true
   },
   "outputs": [],
   "source": []
  },
  {
   "cell_type": "code",
   "execution_count": null,
   "metadata": {
    "collapsed": true
   },
   "outputs": [],
   "source": []
  },
  {
   "cell_type": "code",
   "execution_count": null,
   "metadata": {
    "collapsed": true
   },
   "outputs": [],
   "source": []
  },
  {
   "cell_type": "code",
   "execution_count": null,
   "metadata": {
    "collapsed": true
   },
   "outputs": [],
   "source": []
  }
 ],
 "metadata": {
  "kernelspec": {
   "display_name": "Python 3",
   "language": "python",
   "name": "python3"
  },
  "language_info": {
   "codemirror_mode": {
    "name": "ipython",
    "version": 3
   },
   "file_extension": ".py",
   "mimetype": "text/x-python",
   "name": "python",
   "nbconvert_exporter": "python",
   "pygments_lexer": "ipython3",
   "version": "3.5.2"
  }
 },
 "nbformat": 4,
 "nbformat_minor": 2
}
